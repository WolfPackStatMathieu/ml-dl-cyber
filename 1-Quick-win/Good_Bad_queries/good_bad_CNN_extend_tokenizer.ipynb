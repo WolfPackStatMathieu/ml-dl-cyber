{
 "cells": [
  {
   "cell_type": "markdown",
   "metadata": {},
   "source": [
    "# Autre structure: CNN"
   ]
  },
  {
   "cell_type": "markdown",
   "metadata": {},
   "source": [
    "### Étape 1 : Charger les données"
   ]
  },
  {
   "cell_type": "code",
   "execution_count": 4,
   "metadata": {
    "collapsed": true,
    "jupyter": {
     "outputs_hidden": true
    }
   },
   "outputs": [
    {
     "name": "stdout",
     "output_type": "stream",
     "text": [
      "Requirement already satisfied: tensorflow in /opt/mamba/lib/python3.12/site-packages (from -r /home/onyxia/work/ml-dl-cyber/1-Quick-win/Good_Bad_queries/requirements.txt (line 1)) (2.16.1)\n",
      "Collecting pandas (from -r /home/onyxia/work/ml-dl-cyber/1-Quick-win/Good_Bad_queries/requirements.txt (line 2))\n",
      "  Downloading pandas-2.2.2-cp312-cp312-manylinux_2_17_x86_64.manylinux2014_x86_64.whl.metadata (19 kB)\n",
      "Collecting scikit-learn (from -r /home/onyxia/work/ml-dl-cyber/1-Quick-win/Good_Bad_queries/requirements.txt (line 3))\n",
      "  Downloading scikit_learn-1.4.2-cp312-cp312-manylinux_2_17_x86_64.manylinux2014_x86_64.whl.metadata (11 kB)\n",
      "Collecting torch (from -r /home/onyxia/work/ml-dl-cyber/1-Quick-win/Good_Bad_queries/requirements.txt (line 4))\n",
      "  Downloading torch-2.3.0-cp312-cp312-manylinux1_x86_64.whl.metadata (26 kB)\n",
      "Collecting seaborn (from -r /home/onyxia/work/ml-dl-cyber/1-Quick-win/Good_Bad_queries/requirements.txt (line 5))\n",
      "  Downloading seaborn-0.13.2-py3-none-any.whl.metadata (5.4 kB)\n",
      "Collecting matplotlib (from -r /home/onyxia/work/ml-dl-cyber/1-Quick-win/Good_Bad_queries/requirements.txt (line 6))\n",
      "  Downloading matplotlib-3.9.0-cp312-cp312-manylinux_2_17_x86_64.manylinux2014_x86_64.whl.metadata (11 kB)\n",
      "Requirement already satisfied: absl-py>=1.0.0 in /opt/mamba/lib/python3.12/site-packages (from tensorflow->-r /home/onyxia/work/ml-dl-cyber/1-Quick-win/Good_Bad_queries/requirements.txt (line 1)) (2.1.0)\n",
      "Requirement already satisfied: astunparse>=1.6.0 in /opt/mamba/lib/python3.12/site-packages (from tensorflow->-r /home/onyxia/work/ml-dl-cyber/1-Quick-win/Good_Bad_queries/requirements.txt (line 1)) (1.6.3)\n",
      "Requirement already satisfied: flatbuffers>=23.5.26 in /opt/mamba/lib/python3.12/site-packages (from tensorflow->-r /home/onyxia/work/ml-dl-cyber/1-Quick-win/Good_Bad_queries/requirements.txt (line 1)) (24.3.25)\n",
      "Requirement already satisfied: gast!=0.5.0,!=0.5.1,!=0.5.2,>=0.2.1 in /opt/mamba/lib/python3.12/site-packages (from tensorflow->-r /home/onyxia/work/ml-dl-cyber/1-Quick-win/Good_Bad_queries/requirements.txt (line 1)) (0.5.4)\n",
      "Requirement already satisfied: google-pasta>=0.1.1 in /opt/mamba/lib/python3.12/site-packages (from tensorflow->-r /home/onyxia/work/ml-dl-cyber/1-Quick-win/Good_Bad_queries/requirements.txt (line 1)) (0.2.0)\n",
      "Requirement already satisfied: h5py>=3.10.0 in /opt/mamba/lib/python3.12/site-packages (from tensorflow->-r /home/onyxia/work/ml-dl-cyber/1-Quick-win/Good_Bad_queries/requirements.txt (line 1)) (3.11.0)\n",
      "Requirement already satisfied: libclang>=13.0.0 in /opt/mamba/lib/python3.12/site-packages (from tensorflow->-r /home/onyxia/work/ml-dl-cyber/1-Quick-win/Good_Bad_queries/requirements.txt (line 1)) (18.1.1)\n",
      "Requirement already satisfied: ml-dtypes~=0.3.1 in /opt/mamba/lib/python3.12/site-packages (from tensorflow->-r /home/onyxia/work/ml-dl-cyber/1-Quick-win/Good_Bad_queries/requirements.txt (line 1)) (0.3.2)\n",
      "Requirement already satisfied: opt-einsum>=2.3.2 in /opt/mamba/lib/python3.12/site-packages (from tensorflow->-r /home/onyxia/work/ml-dl-cyber/1-Quick-win/Good_Bad_queries/requirements.txt (line 1)) (3.3.0)\n",
      "Requirement already satisfied: packaging in /opt/mamba/lib/python3.12/site-packages (from tensorflow->-r /home/onyxia/work/ml-dl-cyber/1-Quick-win/Good_Bad_queries/requirements.txt (line 1)) (24.0)\n",
      "Requirement already satisfied: protobuf!=4.21.0,!=4.21.1,!=4.21.2,!=4.21.3,!=4.21.4,!=4.21.5,<5.0.0dev,>=3.20.3 in /opt/mamba/lib/python3.12/site-packages (from tensorflow->-r /home/onyxia/work/ml-dl-cyber/1-Quick-win/Good_Bad_queries/requirements.txt (line 1)) (4.25.3)\n",
      "Requirement already satisfied: requests<3,>=2.21.0 in /opt/mamba/lib/python3.12/site-packages (from tensorflow->-r /home/onyxia/work/ml-dl-cyber/1-Quick-win/Good_Bad_queries/requirements.txt (line 1)) (2.31.0)\n",
      "Requirement already satisfied: setuptools in /opt/mamba/lib/python3.12/site-packages (from tensorflow->-r /home/onyxia/work/ml-dl-cyber/1-Quick-win/Good_Bad_queries/requirements.txt (line 1)) (69.5.1)\n",
      "Requirement already satisfied: six>=1.12.0 in /opt/mamba/lib/python3.12/site-packages (from tensorflow->-r /home/onyxia/work/ml-dl-cyber/1-Quick-win/Good_Bad_queries/requirements.txt (line 1)) (1.16.0)\n",
      "Requirement already satisfied: termcolor>=1.1.0 in /opt/mamba/lib/python3.12/site-packages (from tensorflow->-r /home/onyxia/work/ml-dl-cyber/1-Quick-win/Good_Bad_queries/requirements.txt (line 1)) (2.4.0)\n",
      "Requirement already satisfied: typing-extensions>=3.6.6 in /opt/mamba/lib/python3.12/site-packages (from tensorflow->-r /home/onyxia/work/ml-dl-cyber/1-Quick-win/Good_Bad_queries/requirements.txt (line 1)) (4.11.0)\n",
      "Requirement already satisfied: wrapt>=1.11.0 in /opt/mamba/lib/python3.12/site-packages (from tensorflow->-r /home/onyxia/work/ml-dl-cyber/1-Quick-win/Good_Bad_queries/requirements.txt (line 1)) (1.16.0)\n",
      "Requirement already satisfied: grpcio<2.0,>=1.24.3 in /opt/mamba/lib/python3.12/site-packages (from tensorflow->-r /home/onyxia/work/ml-dl-cyber/1-Quick-win/Good_Bad_queries/requirements.txt (line 1)) (1.62.2)\n",
      "Requirement already satisfied: tensorboard<2.17,>=2.16 in /opt/mamba/lib/python3.12/site-packages (from tensorflow->-r /home/onyxia/work/ml-dl-cyber/1-Quick-win/Good_Bad_queries/requirements.txt (line 1)) (2.16.2)\n",
      "Requirement already satisfied: keras>=3.0.0 in /opt/mamba/lib/python3.12/site-packages (from tensorflow->-r /home/onyxia/work/ml-dl-cyber/1-Quick-win/Good_Bad_queries/requirements.txt (line 1)) (3.3.3)\n",
      "Requirement already satisfied: numpy<2.0.0,>=1.26.0 in /opt/mamba/lib/python3.12/site-packages (from tensorflow->-r /home/onyxia/work/ml-dl-cyber/1-Quick-win/Good_Bad_queries/requirements.txt (line 1)) (1.26.4)\n",
      "Requirement already satisfied: python-dateutil>=2.8.2 in /opt/mamba/lib/python3.12/site-packages (from pandas->-r /home/onyxia/work/ml-dl-cyber/1-Quick-win/Good_Bad_queries/requirements.txt (line 2)) (2.9.0)\n",
      "Requirement already satisfied: pytz>=2020.1 in /opt/mamba/lib/python3.12/site-packages (from pandas->-r /home/onyxia/work/ml-dl-cyber/1-Quick-win/Good_Bad_queries/requirements.txt (line 2)) (2024.1)\n",
      "Collecting tzdata>=2022.7 (from pandas->-r /home/onyxia/work/ml-dl-cyber/1-Quick-win/Good_Bad_queries/requirements.txt (line 2))\n",
      "  Downloading tzdata-2024.1-py2.py3-none-any.whl.metadata (1.4 kB)\n",
      "Collecting scipy>=1.6.0 (from scikit-learn->-r /home/onyxia/work/ml-dl-cyber/1-Quick-win/Good_Bad_queries/requirements.txt (line 3))\n",
      "  Downloading scipy-1.13.0-cp312-cp312-manylinux_2_17_x86_64.manylinux2014_x86_64.whl.metadata (60 kB)\n",
      "\u001b[2K     \u001b[90m━━━━━━━━━━━━━━━━━━━━━━━━━━━━━━━━━━━━━━━━\u001b[0m \u001b[32m60.6/60.6 kB\u001b[0m \u001b[31m24.0 MB/s\u001b[0m eta \u001b[36m0:00:00\u001b[0m\n",
      "\u001b[?25hCollecting joblib>=1.2.0 (from scikit-learn->-r /home/onyxia/work/ml-dl-cyber/1-Quick-win/Good_Bad_queries/requirements.txt (line 3))\n",
      "  Downloading joblib-1.4.2-py3-none-any.whl.metadata (5.4 kB)\n",
      "Collecting threadpoolctl>=2.0.0 (from scikit-learn->-r /home/onyxia/work/ml-dl-cyber/1-Quick-win/Good_Bad_queries/requirements.txt (line 3))\n",
      "  Downloading threadpoolctl-3.5.0-py3-none-any.whl.metadata (13 kB)\n",
      "Collecting filelock (from torch->-r /home/onyxia/work/ml-dl-cyber/1-Quick-win/Good_Bad_queries/requirements.txt (line 4))\n",
      "  Downloading filelock-3.14.0-py3-none-any.whl.metadata (2.8 kB)\n",
      "Collecting sympy (from torch->-r /home/onyxia/work/ml-dl-cyber/1-Quick-win/Good_Bad_queries/requirements.txt (line 4))\n",
      "  Downloading sympy-1.12-py3-none-any.whl.metadata (12 kB)\n",
      "Collecting networkx (from torch->-r /home/onyxia/work/ml-dl-cyber/1-Quick-win/Good_Bad_queries/requirements.txt (line 4))\n",
      "  Downloading networkx-3.3-py3-none-any.whl.metadata (5.1 kB)\n",
      "Requirement already satisfied: jinja2 in /opt/mamba/lib/python3.12/site-packages (from torch->-r /home/onyxia/work/ml-dl-cyber/1-Quick-win/Good_Bad_queries/requirements.txt (line 4)) (3.1.3)\n",
      "Requirement already satisfied: fsspec in /opt/mamba/lib/python3.12/site-packages (from torch->-r /home/onyxia/work/ml-dl-cyber/1-Quick-win/Good_Bad_queries/requirements.txt (line 4)) (2024.3.1)\n",
      "Collecting nvidia-cuda-nvrtc-cu12==12.1.105 (from torch->-r /home/onyxia/work/ml-dl-cyber/1-Quick-win/Good_Bad_queries/requirements.txt (line 4))\n",
      "  Downloading nvidia_cuda_nvrtc_cu12-12.1.105-py3-none-manylinux1_x86_64.whl.metadata (1.5 kB)\n",
      "Collecting nvidia-cuda-runtime-cu12==12.1.105 (from torch->-r /home/onyxia/work/ml-dl-cyber/1-Quick-win/Good_Bad_queries/requirements.txt (line 4))\n",
      "  Downloading nvidia_cuda_runtime_cu12-12.1.105-py3-none-manylinux1_x86_64.whl.metadata (1.5 kB)\n",
      "Collecting nvidia-cuda-cupti-cu12==12.1.105 (from torch->-r /home/onyxia/work/ml-dl-cyber/1-Quick-win/Good_Bad_queries/requirements.txt (line 4))\n",
      "  Downloading nvidia_cuda_cupti_cu12-12.1.105-py3-none-manylinux1_x86_64.whl.metadata (1.6 kB)\n",
      "Collecting nvidia-cudnn-cu12==8.9.2.26 (from torch->-r /home/onyxia/work/ml-dl-cyber/1-Quick-win/Good_Bad_queries/requirements.txt (line 4))\n",
      "  Downloading nvidia_cudnn_cu12-8.9.2.26-py3-none-manylinux1_x86_64.whl.metadata (1.6 kB)\n",
      "Collecting nvidia-cublas-cu12==12.1.3.1 (from torch->-r /home/onyxia/work/ml-dl-cyber/1-Quick-win/Good_Bad_queries/requirements.txt (line 4))\n",
      "  Downloading nvidia_cublas_cu12-12.1.3.1-py3-none-manylinux1_x86_64.whl.metadata (1.5 kB)\n",
      "Collecting nvidia-cufft-cu12==11.0.2.54 (from torch->-r /home/onyxia/work/ml-dl-cyber/1-Quick-win/Good_Bad_queries/requirements.txt (line 4))\n",
      "  Downloading nvidia_cufft_cu12-11.0.2.54-py3-none-manylinux1_x86_64.whl.metadata (1.5 kB)\n",
      "Collecting nvidia-curand-cu12==10.3.2.106 (from torch->-r /home/onyxia/work/ml-dl-cyber/1-Quick-win/Good_Bad_queries/requirements.txt (line 4))\n",
      "  Downloading nvidia_curand_cu12-10.3.2.106-py3-none-manylinux1_x86_64.whl.metadata (1.5 kB)\n",
      "Collecting nvidia-cusolver-cu12==11.4.5.107 (from torch->-r /home/onyxia/work/ml-dl-cyber/1-Quick-win/Good_Bad_queries/requirements.txt (line 4))\n",
      "  Downloading nvidia_cusolver_cu12-11.4.5.107-py3-none-manylinux1_x86_64.whl.metadata (1.6 kB)\n",
      "Collecting nvidia-cusparse-cu12==12.1.0.106 (from torch->-r /home/onyxia/work/ml-dl-cyber/1-Quick-win/Good_Bad_queries/requirements.txt (line 4))\n",
      "  Downloading nvidia_cusparse_cu12-12.1.0.106-py3-none-manylinux1_x86_64.whl.metadata (1.6 kB)\n",
      "Collecting nvidia-nccl-cu12==2.20.5 (from torch->-r /home/onyxia/work/ml-dl-cyber/1-Quick-win/Good_Bad_queries/requirements.txt (line 4))\n",
      "  Downloading nvidia_nccl_cu12-2.20.5-py3-none-manylinux2014_x86_64.whl.metadata (1.8 kB)\n",
      "Collecting nvidia-nvtx-cu12==12.1.105 (from torch->-r /home/onyxia/work/ml-dl-cyber/1-Quick-win/Good_Bad_queries/requirements.txt (line 4))\n",
      "  Downloading nvidia_nvtx_cu12-12.1.105-py3-none-manylinux1_x86_64.whl.metadata (1.7 kB)\n",
      "Collecting nvidia-nvjitlink-cu12 (from nvidia-cusolver-cu12==11.4.5.107->torch->-r /home/onyxia/work/ml-dl-cyber/1-Quick-win/Good_Bad_queries/requirements.txt (line 4))\n",
      "  Downloading nvidia_nvjitlink_cu12-12.4.127-py3-none-manylinux2014_x86_64.whl.metadata (1.5 kB)\n",
      "Collecting contourpy>=1.0.1 (from matplotlib->-r /home/onyxia/work/ml-dl-cyber/1-Quick-win/Good_Bad_queries/requirements.txt (line 6))\n",
      "  Downloading contourpy-1.2.1-cp312-cp312-manylinux_2_17_x86_64.manylinux2014_x86_64.whl.metadata (5.8 kB)\n",
      "Collecting cycler>=0.10 (from matplotlib->-r /home/onyxia/work/ml-dl-cyber/1-Quick-win/Good_Bad_queries/requirements.txt (line 6))\n",
      "  Downloading cycler-0.12.1-py3-none-any.whl.metadata (3.8 kB)\n",
      "Collecting fonttools>=4.22.0 (from matplotlib->-r /home/onyxia/work/ml-dl-cyber/1-Quick-win/Good_Bad_queries/requirements.txt (line 6))\n",
      "  Downloading fonttools-4.51.0-cp312-cp312-manylinux_2_5_x86_64.manylinux1_x86_64.manylinux_2_17_x86_64.manylinux2014_x86_64.whl.metadata (159 kB)\n",
      "\u001b[2K     \u001b[90m━━━━━━━━━━━━━━━━━━━━━━━━━━━━━━━━━━━━━━\u001b[0m \u001b[32m159.5/159.5 kB\u001b[0m \u001b[31m43.4 MB/s\u001b[0m eta \u001b[36m0:00:00\u001b[0m\n",
      "\u001b[?25hCollecting kiwisolver>=1.3.1 (from matplotlib->-r /home/onyxia/work/ml-dl-cyber/1-Quick-win/Good_Bad_queries/requirements.txt (line 6))\n",
      "  Downloading kiwisolver-1.4.5-cp312-cp312-manylinux_2_17_x86_64.manylinux2014_x86_64.whl.metadata (6.4 kB)\n",
      "Collecting pillow>=8 (from matplotlib->-r /home/onyxia/work/ml-dl-cyber/1-Quick-win/Good_Bad_queries/requirements.txt (line 6))\n",
      "  Downloading pillow-10.3.0-cp312-cp312-manylinux_2_28_x86_64.whl.metadata (9.2 kB)\n",
      "Collecting pyparsing>=2.3.1 (from matplotlib->-r /home/onyxia/work/ml-dl-cyber/1-Quick-win/Good_Bad_queries/requirements.txt (line 6))\n",
      "  Downloading pyparsing-3.1.2-py3-none-any.whl.metadata (5.1 kB)\n",
      "Requirement already satisfied: wheel<1.0,>=0.23.0 in /opt/mamba/lib/python3.12/site-packages (from astunparse>=1.6.0->tensorflow->-r /home/onyxia/work/ml-dl-cyber/1-Quick-win/Good_Bad_queries/requirements.txt (line 1)) (0.43.0)\n",
      "Requirement already satisfied: rich in /opt/mamba/lib/python3.12/site-packages (from keras>=3.0.0->tensorflow->-r /home/onyxia/work/ml-dl-cyber/1-Quick-win/Good_Bad_queries/requirements.txt (line 1)) (13.7.1)\n",
      "Requirement already satisfied: namex in /opt/mamba/lib/python3.12/site-packages (from keras>=3.0.0->tensorflow->-r /home/onyxia/work/ml-dl-cyber/1-Quick-win/Good_Bad_queries/requirements.txt (line 1)) (0.0.8)\n",
      "Requirement already satisfied: optree in /opt/mamba/lib/python3.12/site-packages (from keras>=3.0.0->tensorflow->-r /home/onyxia/work/ml-dl-cyber/1-Quick-win/Good_Bad_queries/requirements.txt (line 1)) (0.11.0)\n",
      "Requirement already satisfied: charset-normalizer<4,>=2 in /opt/mamba/lib/python3.12/site-packages (from requests<3,>=2.21.0->tensorflow->-r /home/onyxia/work/ml-dl-cyber/1-Quick-win/Good_Bad_queries/requirements.txt (line 1)) (3.3.2)\n",
      "Requirement already satisfied: idna<4,>=2.5 in /opt/mamba/lib/python3.12/site-packages (from requests<3,>=2.21.0->tensorflow->-r /home/onyxia/work/ml-dl-cyber/1-Quick-win/Good_Bad_queries/requirements.txt (line 1)) (3.6)\n",
      "Requirement already satisfied: urllib3<3,>=1.21.1 in /opt/mamba/lib/python3.12/site-packages (from requests<3,>=2.21.0->tensorflow->-r /home/onyxia/work/ml-dl-cyber/1-Quick-win/Good_Bad_queries/requirements.txt (line 1)) (1.26.18)\n",
      "Requirement already satisfied: certifi>=2017.4.17 in /opt/mamba/lib/python3.12/site-packages (from requests<3,>=2.21.0->tensorflow->-r /home/onyxia/work/ml-dl-cyber/1-Quick-win/Good_Bad_queries/requirements.txt (line 1)) (2024.2.2)\n",
      "Requirement already satisfied: markdown>=2.6.8 in /opt/mamba/lib/python3.12/site-packages (from tensorboard<2.17,>=2.16->tensorflow->-r /home/onyxia/work/ml-dl-cyber/1-Quick-win/Good_Bad_queries/requirements.txt (line 1)) (3.6)\n",
      "Requirement already satisfied: tensorboard-data-server<0.8.0,>=0.7.0 in /opt/mamba/lib/python3.12/site-packages (from tensorboard<2.17,>=2.16->tensorflow->-r /home/onyxia/work/ml-dl-cyber/1-Quick-win/Good_Bad_queries/requirements.txt (line 1)) (0.7.2)\n",
      "Requirement already satisfied: werkzeug>=1.0.1 in /opt/mamba/lib/python3.12/site-packages (from tensorboard<2.17,>=2.16->tensorflow->-r /home/onyxia/work/ml-dl-cyber/1-Quick-win/Good_Bad_queries/requirements.txt (line 1)) (3.0.2)\n",
      "Requirement already satisfied: MarkupSafe>=2.0 in /opt/mamba/lib/python3.12/site-packages (from jinja2->torch->-r /home/onyxia/work/ml-dl-cyber/1-Quick-win/Good_Bad_queries/requirements.txt (line 4)) (2.1.5)\n",
      "Collecting mpmath>=0.19 (from sympy->torch->-r /home/onyxia/work/ml-dl-cyber/1-Quick-win/Good_Bad_queries/requirements.txt (line 4))\n",
      "  Downloading mpmath-1.3.0-py3-none-any.whl.metadata (8.6 kB)\n",
      "Requirement already satisfied: markdown-it-py>=2.2.0 in /opt/mamba/lib/python3.12/site-packages (from rich->keras>=3.0.0->tensorflow->-r /home/onyxia/work/ml-dl-cyber/1-Quick-win/Good_Bad_queries/requirements.txt (line 1)) (3.0.0)\n",
      "Requirement already satisfied: pygments<3.0.0,>=2.13.0 in /opt/mamba/lib/python3.12/site-packages (from rich->keras>=3.0.0->tensorflow->-r /home/onyxia/work/ml-dl-cyber/1-Quick-win/Good_Bad_queries/requirements.txt (line 1)) (2.17.2)\n",
      "Requirement already satisfied: mdurl~=0.1 in /opt/mamba/lib/python3.12/site-packages (from markdown-it-py>=2.2.0->rich->keras>=3.0.0->tensorflow->-r /home/onyxia/work/ml-dl-cyber/1-Quick-win/Good_Bad_queries/requirements.txt (line 1)) (0.1.2)\n",
      "Downloading pandas-2.2.2-cp312-cp312-manylinux_2_17_x86_64.manylinux2014_x86_64.whl (12.7 MB)\n",
      "\u001b[2K   \u001b[90m━━━━━━━━━━━━━━━━━━━━━━━━━━━━━━━━━━━━━━━━\u001b[0m \u001b[32m12.7/12.7 MB\u001b[0m \u001b[31m80.4 MB/s\u001b[0m eta \u001b[36m0:00:00\u001b[0m:00:01\u001b[0m0:01\u001b[0m\n",
      "\u001b[?25hDownloading scikit_learn-1.4.2-cp312-cp312-manylinux_2_17_x86_64.manylinux2014_x86_64.whl (12.2 MB)\n",
      "\u001b[2K   \u001b[90m━━━━━━━━━━━━━━━━━━━━━━━━━━━━━━━━━━━━━━━━\u001b[0m \u001b[32m12.2/12.2 MB\u001b[0m \u001b[31m87.1 MB/s\u001b[0m eta \u001b[36m0:00:00\u001b[0m:00:01\u001b[0m0:01\u001b[0m\n",
      "\u001b[?25hDownloading torch-2.3.0-cp312-cp312-manylinux1_x86_64.whl (779.1 MB)\n",
      "\u001b[2K   \u001b[90m━━━━━━━━━━━━━━━━━━━━━━━━━━━━━━━━━━━━━━━━\u001b[0m \u001b[32m779.1/779.1 MB\u001b[0m \u001b[31m7.9 MB/s\u001b[0m eta \u001b[36m0:00:00\u001b[0m:00:01\u001b[0m00:01\u001b[0m\n",
      "\u001b[?25hDownloading nvidia_cublas_cu12-12.1.3.1-py3-none-manylinux1_x86_64.whl (410.6 MB)\n",
      "\u001b[2K   \u001b[90m━━━━━━━━━━━━━━━━━━━━━━━━━━━━━━━━━━━━━━━━\u001b[0m \u001b[32m410.6/410.6 MB\u001b[0m \u001b[31m9.8 MB/s\u001b[0m eta \u001b[36m0:00:00\u001b[0m:00:01\u001b[0m00:01\u001b[0m\n",
      "\u001b[?25hDownloading nvidia_cuda_cupti_cu12-12.1.105-py3-none-manylinux1_x86_64.whl (14.1 MB)\n",
      "\u001b[2K   \u001b[90m━━━━━━━━━━━━━━━━━━━━━━━━━━━━━━━━━━━━━━━━\u001b[0m \u001b[32m14.1/14.1 MB\u001b[0m \u001b[31m78.9 MB/s\u001b[0m eta \u001b[36m0:00:00\u001b[0m:00:01\u001b[0m00:01\u001b[0m\n",
      "\u001b[?25hDownloading nvidia_cuda_nvrtc_cu12-12.1.105-py3-none-manylinux1_x86_64.whl (23.7 MB)\n",
      "\u001b[2K   \u001b[90m━━━━━━━━━━━━━━━━━━━━━━━━━━━━━━━━━━━━━━━━\u001b[0m \u001b[32m23.7/23.7 MB\u001b[0m \u001b[31m68.5 MB/s\u001b[0m eta \u001b[36m0:00:00\u001b[0m:00:01\u001b[0m00:01\u001b[0m\n",
      "\u001b[?25hDownloading nvidia_cuda_runtime_cu12-12.1.105-py3-none-manylinux1_x86_64.whl (823 kB)\n",
      "\u001b[2K   \u001b[90m━━━━━━━━━━━━━━━━━━━━━━━━━━━━━━━━━━━━━━━━\u001b[0m \u001b[32m823.6/823.6 kB\u001b[0m \u001b[31m63.4 MB/s\u001b[0m eta \u001b[36m0:00:00\u001b[0m\n",
      "\u001b[?25hDownloading nvidia_cudnn_cu12-8.9.2.26-py3-none-manylinux1_x86_64.whl (731.7 MB)\n",
      "\u001b[2K   \u001b[90m━━━━━━━━━━━━━━━━━━━━━━━━━━━━━━━━━━━━━━━━\u001b[0m \u001b[32m731.7/731.7 MB\u001b[0m \u001b[31m4.7 MB/s\u001b[0m eta \u001b[36m0:00:00\u001b[0m:00:01\u001b[0m00:01\u001b[0m\n",
      "\u001b[?25hDownloading nvidia_cufft_cu12-11.0.2.54-py3-none-manylinux1_x86_64.whl (121.6 MB)\n",
      "\u001b[2K   \u001b[90m━━━━━━━━━━━━━━━━━━━━━━━━━━━━━━━━━━━━━━━━\u001b[0m \u001b[32m121.6/121.6 MB\u001b[0m \u001b[31m25.1 MB/s\u001b[0m eta \u001b[36m0:00:00\u001b[0m00:01\u001b[0m00:01\u001b[0m\n",
      "\u001b[?25hDownloading nvidia_curand_cu12-10.3.2.106-py3-none-manylinux1_x86_64.whl (56.5 MB)\n",
      "\u001b[2K   \u001b[90m━━━━━━━━━━━━━━━━━━━━━━━━━━━━━━━━━━━━━━━━\u001b[0m \u001b[32m56.5/56.5 MB\u001b[0m \u001b[31m43.0 MB/s\u001b[0m eta \u001b[36m0:00:00\u001b[0m00:01\u001b[0m:00:01\u001b[0m\n",
      "\u001b[?25hDownloading nvidia_cusolver_cu12-11.4.5.107-py3-none-manylinux1_x86_64.whl (124.2 MB)\n",
      "\u001b[2K   \u001b[90m━━━━━━━━━━━━━━━━━━━━━━━━━━━━━━━━━━━━━━━━\u001b[0m \u001b[32m124.2/124.2 MB\u001b[0m \u001b[31m24.3 MB/s\u001b[0m eta \u001b[36m0:00:00\u001b[0m00:01\u001b[0m00:01\u001b[0m\n",
      "\u001b[?25hDownloading nvidia_cusparse_cu12-12.1.0.106-py3-none-manylinux1_x86_64.whl (196.0 MB)\n",
      "\u001b[2K   \u001b[90m━━━━━━━━━━━━━━━━━━━━━━━━━━━━━━━━━━━━━━━━\u001b[0m \u001b[32m196.0/196.0 MB\u001b[0m \u001b[31m12.4 MB/s\u001b[0m eta \u001b[36m0:00:00\u001b[0m00:01\u001b[0m00:01\u001b[0m\n",
      "\u001b[?25hDownloading nvidia_nccl_cu12-2.20.5-py3-none-manylinux2014_x86_64.whl (176.2 MB)\n",
      "\u001b[2K   \u001b[90m━━━━━━━━━━━━━━━━━━━━━━━━━━━━━━━━━━━━━━━━\u001b[0m \u001b[32m176.2/176.2 MB\u001b[0m \u001b[31m6.1 MB/s\u001b[0m eta \u001b[36m0:00:00\u001b[0m:00:01\u001b[0m00:01\u001b[0m\n",
      "\u001b[?25hDownloading nvidia_nvtx_cu12-12.1.105-py3-none-manylinux1_x86_64.whl (99 kB)\n",
      "\u001b[2K   \u001b[90m━━━━━━━━━━━━━━━━━━━━━━━━━━━━━━━━━━━━━━━━\u001b[0m \u001b[32m99.1/99.1 kB\u001b[0m \u001b[31m129.0 kB/s\u001b[0m eta \u001b[36m0:00:00\u001b[0ma \u001b[36m0:00:01\u001b[0m\n",
      "\u001b[?25hDownloading seaborn-0.13.2-py3-none-any.whl (294 kB)\n",
      "\u001b[2K   \u001b[90m━━━━━━━━━━━━━━━━━━━━━━━━━━━━━━━━━━━━━━━\u001b[0m \u001b[32m294.9/294.9 kB\u001b[0m \u001b[31m205.3 kB/s\u001b[0m eta \u001b[36m0:00:00\u001b[0ma \u001b[36m0:00:01\u001b[0m\n",
      "\u001b[?25hDownloading matplotlib-3.9.0-cp312-cp312-manylinux_2_17_x86_64.manylinux2014_x86_64.whl (8.3 MB)\n",
      "\u001b[2K   \u001b[90m━━━━━━━━━━━━━━━━━━━━━━━━━━━━━━━━━━━━━━━━\u001b[0m \u001b[32m8.3/8.3 MB\u001b[0m \u001b[31m23.9 MB/s\u001b[0m eta \u001b[36m0:00:00\u001b[0m:00:01\u001b[0m00:01\u001b[0m\n",
      "\u001b[?25hDownloading contourpy-1.2.1-cp312-cp312-manylinux_2_17_x86_64.manylinux2014_x86_64.whl (309 kB)\n",
      "\u001b[2K   \u001b[90m━━━━━━━━━━━━━━━━━━━━━━━━━━━━━━━━━━━━━━━━\u001b[0m \u001b[32m309.2/309.2 kB\u001b[0m \u001b[31m1.6 MB/s\u001b[0m eta \u001b[36m0:00:00\u001b[0m:00:01\u001b[0m\n",
      "\u001b[?25hDownloading cycler-0.12.1-py3-none-any.whl (8.3 kB)\n",
      "Downloading fonttools-4.51.0-cp312-cp312-manylinux_2_5_x86_64.manylinux1_x86_64.manylinux_2_17_x86_64.manylinux2014_x86_64.whl (4.9 MB)\n",
      "\u001b[2K   \u001b[90m━━━━━━━━━━━━━━━━━━━━━━━━━━━━━━━━━━━━━━━━\u001b[0m \u001b[32m4.9/4.9 MB\u001b[0m \u001b[31m15.1 MB/s\u001b[0m eta \u001b[36m0:00:00\u001b[0m00:01\u001b[0m00:01\u001b[0m\n",
      "\u001b[?25hDownloading joblib-1.4.2-py3-none-any.whl (301 kB)\n",
      "\u001b[2K   \u001b[90m━━━━━━━━━━━━━━━━━━━━━━━━━━━━━━━━━━━━━━━━\u001b[0m \u001b[32m301.8/301.8 kB\u001b[0m \u001b[31m3.4 MB/s\u001b[0m eta \u001b[36m0:00:00\u001b[0m:00:01\u001b[0m\n",
      "\u001b[?25hDownloading kiwisolver-1.4.5-cp312-cp312-manylinux_2_17_x86_64.manylinux2014_x86_64.whl (1.5 MB)\n",
      "\u001b[2K   \u001b[90m━━━━━━━━━━━━━━━━━━━━━━━━━━━━━━━━━━━━━━━━\u001b[0m \u001b[32m1.5/1.5 MB\u001b[0m \u001b[31m6.5 MB/s\u001b[0m eta \u001b[36m0:00:00\u001b[0m0:00:01\u001b[0m\n",
      "\u001b[?25hDownloading pillow-10.3.0-cp312-cp312-manylinux_2_28_x86_64.whl (4.5 MB)\n",
      "\u001b[2K   \u001b[90m━━━━━━━━━━━━━━━━━━━━━━━━━━━━━━━━━━━━━━━━\u001b[0m \u001b[32m4.5/4.5 MB\u001b[0m \u001b[31m11.2 MB/s\u001b[0m eta \u001b[36m0:00:00\u001b[0m:00:01\u001b[0m00:01\u001b[0m\n",
      "\u001b[?25hDownloading pyparsing-3.1.2-py3-none-any.whl (103 kB)\n",
      "\u001b[2K   \u001b[90m━━━━━━━━━━━━━━━━━━━━━━━━━━━━━━━━━━━━━━━\u001b[0m \u001b[32m103.2/103.2 kB\u001b[0m \u001b[31m891.9 kB/s\u001b[0m eta \u001b[36m0:00:00\u001b[0m00:01\u001b[0m\n",
      "\u001b[?25hDownloading scipy-1.13.0-cp312-cp312-manylinux_2_17_x86_64.manylinux2014_x86_64.whl (38.2 MB)\n",
      "\u001b[2K   \u001b[90m━━━━━━━━━━━━━━━━━━━━━━━━━━━━━━━━━━━━━━━━\u001b[0m \u001b[32m38.2/38.2 MB\u001b[0m \u001b[31m17.3 MB/s\u001b[0m eta \u001b[36m0:00:00\u001b[0m:00:01\u001b[0m00:01\u001b[0m\n",
      "\u001b[?25hDownloading threadpoolctl-3.5.0-py3-none-any.whl (18 kB)\n",
      "Downloading tzdata-2024.1-py2.py3-none-any.whl (345 kB)\n",
      "\u001b[2K   \u001b[90m━━━━━━━━━━━━━━━━━━━━━━━━━━━━━━━━━━━━━━━━\u001b[0m \u001b[32m345.4/345.4 kB\u001b[0m \u001b[31m1.4 MB/s\u001b[0m eta \u001b[36m0:00:00\u001b[0m:00:01\u001b[0m\n",
      "\u001b[?25hDownloading filelock-3.14.0-py3-none-any.whl (12 kB)\n",
      "Downloading networkx-3.3-py3-none-any.whl (1.7 MB)\n",
      "\u001b[2K   \u001b[90m━━━━━━━━━━━━━━━━━━━━━━━━━━━━━━━━━━━━━━━━\u001b[0m \u001b[32m1.7/1.7 MB\u001b[0m \u001b[31m74.8 MB/s\u001b[0m eta \u001b[36m0:00:00\u001b[0m\n",
      "\u001b[?25hDownloading sympy-1.12-py3-none-any.whl (5.7 MB)\n",
      "\u001b[2K   \u001b[90m━━━━━━━━━━━━━━━━━━━━━━━━━━━━━━━━━━━━━━━━\u001b[0m \u001b[32m5.7/5.7 MB\u001b[0m \u001b[31m90.9 MB/s\u001b[0m eta \u001b[36m0:00:00\u001b[0mta \u001b[36m0:00:01\u001b[0m\n",
      "\u001b[?25hDownloading mpmath-1.3.0-py3-none-any.whl (536 kB)\n",
      "\u001b[2K   \u001b[90m━━━━━━━━━━━━━━━━━━━━━━━━━━━━━━━━━━━━━━━━\u001b[0m \u001b[32m536.2/536.2 kB\u001b[0m \u001b[31m63.8 MB/s\u001b[0m eta \u001b[36m0:00:00\u001b[0m\n",
      "\u001b[?25hDownloading nvidia_nvjitlink_cu12-12.4.127-py3-none-manylinux2014_x86_64.whl (21.1 MB)\n",
      "\u001b[2K   \u001b[90m━━━━━━━━━━━━━━━━━━━━━━━━━━━━━━━━━━━━━━━━\u001b[0m \u001b[32m21.1/21.1 MB\u001b[0m \u001b[31m73.1 MB/s\u001b[0m eta \u001b[36m0:00:00\u001b[0m:00:01\u001b[0m00:01\u001b[0m\n",
      "\u001b[?25hInstalling collected packages: mpmath, tzdata, threadpoolctl, sympy, scipy, pyparsing, pillow, nvidia-nvtx-cu12, nvidia-nvjitlink-cu12, nvidia-nccl-cu12, nvidia-curand-cu12, nvidia-cufft-cu12, nvidia-cuda-runtime-cu12, nvidia-cuda-nvrtc-cu12, nvidia-cuda-cupti-cu12, nvidia-cublas-cu12, networkx, kiwisolver, joblib, fonttools, filelock, cycler, contourpy, scikit-learn, pandas, nvidia-cusparse-cu12, nvidia-cudnn-cu12, matplotlib, seaborn, nvidia-cusolver-cu12, torch\n",
      "Successfully installed contourpy-1.2.1 cycler-0.12.1 filelock-3.14.0 fonttools-4.51.0 joblib-1.4.2 kiwisolver-1.4.5 matplotlib-3.9.0 mpmath-1.3.0 networkx-3.3 nvidia-cublas-cu12-12.1.3.1 nvidia-cuda-cupti-cu12-12.1.105 nvidia-cuda-nvrtc-cu12-12.1.105 nvidia-cuda-runtime-cu12-12.1.105 nvidia-cudnn-cu12-8.9.2.26 nvidia-cufft-cu12-11.0.2.54 nvidia-curand-cu12-10.3.2.106 nvidia-cusolver-cu12-11.4.5.107 nvidia-cusparse-cu12-12.1.0.106 nvidia-nccl-cu12-2.20.5 nvidia-nvjitlink-cu12-12.4.127 nvidia-nvtx-cu12-12.1.105 pandas-2.2.2 pillow-10.3.0 pyparsing-3.1.2 scikit-learn-1.4.2 scipy-1.13.0 seaborn-0.13.2 sympy-1.12 threadpoolctl-3.5.0 torch-2.3.0 tzdata-2024.1\n"
     ]
    }
   ],
   "source": [
    "!pip install -r /home/onyxia/work/ml-dl-cyber/1-Quick-win/Good_Bad_queries/requirements.txt"
   ]
  },
  {
   "cell_type": "code",
   "execution_count": 8,
   "metadata": {},
   "outputs": [],
   "source": [
    "import pandas as pd\n",
    "from sklearn.model_selection import train_test_split\n",
    "from sklearn.decomposition import PCA\n",
    "from sklearn.neighbors import KNeighborsClassifier\n",
    "from sklearn.metrics import classification_report, confusion_matrix, accuracy_score\n",
    "from sklearn.feature_extraction.text import TfidfVectorizer\n"
   ]
  },
  {
   "cell_type": "code",
   "execution_count": 9,
   "metadata": {},
   "outputs": [
    {
     "name": "stdout",
     "output_type": "stream",
     "text": [
      "/home/onyxia/work/ml-dl-cyber/1-Quick-win/Good_Bad_queries\n"
     ]
    }
   ],
   "source": [
    "import os \n",
    "cwd = os.getcwd()\n",
    "print(cwd)"
   ]
  },
  {
   "cell_type": "code",
   "execution_count": 10,
   "metadata": {},
   "outputs": [],
   "source": [
    "\n",
    "\n",
    "# Charger les données\n",
    "def load_data(filepath, label):\n",
    "    with open(filepath, 'r', encoding='utf-8') as file:\n",
    "        lines = file.readlines()\n",
    "        data = [(line.strip(), label) for line in lines if line.strip()]\n",
    "    return data\n",
    "\n",
    "# Emplacements des fichiers\n",
    "bad_queries_path = 'badqueries.txt'\n",
    "good_queries_path = 'goodqueries.txt'\n",
    "\n",
    "# Charger et étiqueter les données\n",
    "bad_data = load_data(bad_queries_path, 1)  # Étiquette 1 pour les mauvaises requêtes\n",
    "good_data = load_data(good_queries_path, 0)  # Étiquette 0 pour les bonnes requêtes\n",
    "\n",
    "# Combinez les données dans un DataFrame\n",
    "all_data = pd.DataFrame(bad_data + good_data, columns=['query', 'label'])\n"
   ]
  },
  {
   "cell_type": "code",
   "execution_count": 11,
   "metadata": {},
   "outputs": [
    {
     "name": "stdout",
     "output_type": "stream",
     "text": [
      "Shape of balanced sampled data: (1342596, 2)\n"
     ]
    }
   ],
   "source": [
    "# Assurez-vous d'avoir un équilibre entre les bonnes et mauvaises requêtes\n",
    "sampled_bad = all_data[all_data['label'] == 1]#.sample(n=10000, random_state=42)\n",
    "sampled_good = all_data[all_data['label'] == 0]#.sample(n=10000, random_state=42)\n",
    "\n",
    "# Combine les deux échantillons en un seul DataFrame\n",
    "balanced_sampled_data = pd.concat([sampled_bad, sampled_good])\n",
    "\n",
    "# Mélangez les données pour éviter toute séquence qui pourrait influencer l'apprentissage\n",
    "balanced_sampled_data = balanced_sampled_data.sample(frac=1, random_state=42).reset_index(drop=True)\n",
    "\n",
    "# Affichage des nouvelles dimensions du DataFrame équilibré\n",
    "print(\"Shape of balanced sampled data:\", balanced_sampled_data.shape)\n"
   ]
  },
  {
   "cell_type": "markdown",
   "metadata": {},
   "source": [
    "\n",
    "\n",
    "### Étape 2 : Préparation des données\n",
    "\n",
    "Nous diviserons les données en ensembles d'entraînement et de test, puis appliquerons la vectorisation TF-IDF pour convertir les requêtes textuelles en vecteurs numériques."
   ]
  },
  {
   "cell_type": "code",
   "execution_count": 12,
   "metadata": {},
   "outputs": [],
   "source": [
    "from sklearn.model_selection import train_test_split\n",
    "from sklearn.feature_extraction.text import TfidfVectorizer\n",
    "\n",
    "# Séparer les données en ensembles d'entraînement et de test\n",
    "X_train, X_test, y_train, y_test = train_test_split(balanced_sampled_data['query'], balanced_sampled_data['label'], test_size=0.2, random_state=42)\n",
    "\n"
   ]
  },
  {
   "cell_type": "code",
   "execution_count": 13,
   "metadata": {},
   "outputs": [],
   "source": [
    "# Vectorisation TF-IDF\n",
    "\n",
    "#X_train_tfidf = vectorizer.fit_transform(X_train)\n",
    "#X_test_tfidf = vectorizer.transform(X_test)"
   ]
  },
  {
   "cell_type": "code",
   "execution_count": 14,
   "metadata": {},
   "outputs": [],
   "source": [
    "#vectorizer.get_feature_names_out()"
   ]
  },
  {
   "cell_type": "markdown",
   "metadata": {},
   "source": [
    "## 1er modèle"
   ]
  },
  {
   "cell_type": "code",
   "execution_count": 15,
   "metadata": {},
   "outputs": [
    {
     "name": "stdout",
     "output_type": "stream",
     "text": [
      "Requirement already satisfied: tensorflow in /opt/mamba/lib/python3.12/site-packages (2.16.1)\n",
      "Requirement already satisfied: absl-py>=1.0.0 in /opt/mamba/lib/python3.12/site-packages (from tensorflow) (2.1.0)\n",
      "Requirement already satisfied: astunparse>=1.6.0 in /opt/mamba/lib/python3.12/site-packages (from tensorflow) (1.6.3)\n",
      "Requirement already satisfied: flatbuffers>=23.5.26 in /opt/mamba/lib/python3.12/site-packages (from tensorflow) (24.3.25)\n",
      "Requirement already satisfied: gast!=0.5.0,!=0.5.1,!=0.5.2,>=0.2.1 in /opt/mamba/lib/python3.12/site-packages (from tensorflow) (0.5.4)\n",
      "Requirement already satisfied: google-pasta>=0.1.1 in /opt/mamba/lib/python3.12/site-packages (from tensorflow) (0.2.0)\n",
      "Requirement already satisfied: h5py>=3.10.0 in /opt/mamba/lib/python3.12/site-packages (from tensorflow) (3.11.0)\n",
      "Requirement already satisfied: libclang>=13.0.0 in /opt/mamba/lib/python3.12/site-packages (from tensorflow) (18.1.1)\n",
      "Requirement already satisfied: ml-dtypes~=0.3.1 in /opt/mamba/lib/python3.12/site-packages (from tensorflow) (0.3.2)\n",
      "Requirement already satisfied: opt-einsum>=2.3.2 in /opt/mamba/lib/python3.12/site-packages (from tensorflow) (3.3.0)\n",
      "Requirement already satisfied: packaging in /opt/mamba/lib/python3.12/site-packages (from tensorflow) (24.0)\n",
      "Requirement already satisfied: protobuf!=4.21.0,!=4.21.1,!=4.21.2,!=4.21.3,!=4.21.4,!=4.21.5,<5.0.0dev,>=3.20.3 in /opt/mamba/lib/python3.12/site-packages (from tensorflow) (4.25.3)\n",
      "Requirement already satisfied: requests<3,>=2.21.0 in /opt/mamba/lib/python3.12/site-packages (from tensorflow) (2.31.0)\n",
      "Requirement already satisfied: setuptools in /opt/mamba/lib/python3.12/site-packages (from tensorflow) (69.5.1)\n",
      "Requirement already satisfied: six>=1.12.0 in /opt/mamba/lib/python3.12/site-packages (from tensorflow) (1.16.0)\n",
      "Requirement already satisfied: termcolor>=1.1.0 in /opt/mamba/lib/python3.12/site-packages (from tensorflow) (2.4.0)\n",
      "Requirement already satisfied: typing-extensions>=3.6.6 in /opt/mamba/lib/python3.12/site-packages (from tensorflow) (4.11.0)\n",
      "Requirement already satisfied: wrapt>=1.11.0 in /opt/mamba/lib/python3.12/site-packages (from tensorflow) (1.16.0)\n",
      "Requirement already satisfied: grpcio<2.0,>=1.24.3 in /opt/mamba/lib/python3.12/site-packages (from tensorflow) (1.62.2)\n",
      "Requirement already satisfied: tensorboard<2.17,>=2.16 in /opt/mamba/lib/python3.12/site-packages (from tensorflow) (2.16.2)\n",
      "Requirement already satisfied: keras>=3.0.0 in /opt/mamba/lib/python3.12/site-packages (from tensorflow) (3.3.3)\n",
      "Requirement already satisfied: numpy<2.0.0,>=1.26.0 in /opt/mamba/lib/python3.12/site-packages (from tensorflow) (1.26.4)\n",
      "Requirement already satisfied: wheel<1.0,>=0.23.0 in /opt/mamba/lib/python3.12/site-packages (from astunparse>=1.6.0->tensorflow) (0.43.0)\n",
      "Requirement already satisfied: rich in /opt/mamba/lib/python3.12/site-packages (from keras>=3.0.0->tensorflow) (13.7.1)\n",
      "Requirement already satisfied: namex in /opt/mamba/lib/python3.12/site-packages (from keras>=3.0.0->tensorflow) (0.0.8)\n",
      "Requirement already satisfied: optree in /opt/mamba/lib/python3.12/site-packages (from keras>=3.0.0->tensorflow) (0.11.0)\n",
      "Requirement already satisfied: charset-normalizer<4,>=2 in /opt/mamba/lib/python3.12/site-packages (from requests<3,>=2.21.0->tensorflow) (3.3.2)\n",
      "Requirement already satisfied: idna<4,>=2.5 in /opt/mamba/lib/python3.12/site-packages (from requests<3,>=2.21.0->tensorflow) (3.6)\n",
      "Requirement already satisfied: urllib3<3,>=1.21.1 in /opt/mamba/lib/python3.12/site-packages (from requests<3,>=2.21.0->tensorflow) (1.26.18)\n",
      "Requirement already satisfied: certifi>=2017.4.17 in /opt/mamba/lib/python3.12/site-packages (from requests<3,>=2.21.0->tensorflow) (2024.2.2)\n",
      "Requirement already satisfied: markdown>=2.6.8 in /opt/mamba/lib/python3.12/site-packages (from tensorboard<2.17,>=2.16->tensorflow) (3.6)\n",
      "Requirement already satisfied: tensorboard-data-server<0.8.0,>=0.7.0 in /opt/mamba/lib/python3.12/site-packages (from tensorboard<2.17,>=2.16->tensorflow) (0.7.2)\n",
      "Requirement already satisfied: werkzeug>=1.0.1 in /opt/mamba/lib/python3.12/site-packages (from tensorboard<2.17,>=2.16->tensorflow) (3.0.2)\n",
      "Requirement already satisfied: MarkupSafe>=2.1.1 in /opt/mamba/lib/python3.12/site-packages (from werkzeug>=1.0.1->tensorboard<2.17,>=2.16->tensorflow) (2.1.5)\n",
      "Requirement already satisfied: markdown-it-py>=2.2.0 in /opt/mamba/lib/python3.12/site-packages (from rich->keras>=3.0.0->tensorflow) (3.0.0)\n",
      "Requirement already satisfied: pygments<3.0.0,>=2.13.0 in /opt/mamba/lib/python3.12/site-packages (from rich->keras>=3.0.0->tensorflow) (2.17.2)\n",
      "Requirement already satisfied: mdurl~=0.1 in /opt/mamba/lib/python3.12/site-packages (from markdown-it-py>=2.2.0->rich->keras>=3.0.0->tensorflow) (0.1.2)\n"
     ]
    }
   ],
   "source": [
    "!pip install tensorflow"
   ]
  },
  {
   "cell_type": "markdown",
   "metadata": {},
   "source": [
    "Pour adapter `vocab_size` et `max_length` dans votre modèle CNN pour la classification de texte, voici quelques considérations et méthodes que vous pouvez utiliser :\n",
    "\n",
    "### 1. **Déterminer `max_length`**\n",
    "`max_length` est la longueur maximale d'une séquence de texte (en mots ou tokens) que votre réseau traitera. Voici comment choisir cette valeur :\n",
    "\n",
    "- **Analyse des données** : Commencez par analyser la distribution des longueurs de vos textes. Vous pouvez le faire en calculant la longueur de chaque texte et en utilisant des statistiques descriptives ou des visualisations comme un histogramme.\n",
    "- **Choix basé sur la distribution** : Souvent, on choisit une valeur qui couvre une grande partie de l'ensemble de données, par exemple, la 90ème ou 95ème percentile de la distribution des longueurs. Cela garantit que la majorité des textes sont traités sans trop de troncature tout en évitant l'effet de quelques valeurs extrêmes très longues.\n",
    "  \n",
    "Exemple en Python pour calculer le percentile de la longueur des textes :"
   ]
  },
  {
   "cell_type": "code",
   "execution_count": 16,
   "metadata": {},
   "outputs": [
    {
     "name": "stdout",
     "output_type": "stream",
     "text": [
      "100% des textes ont une longueur de 73 mots ou moins.\n"
     ]
    }
   ],
   "source": [
    "import numpy as np\n",
    "\n",
    "# Calcul des longueurs de texte\n",
    "text_lengths = [len(text.split()) for text in X_train]\n",
    "\n",
    "# Calcul du 95ème percentile\n",
    "max_length = int(np.percentile(text_lengths, 100))\n",
    "\n",
    "print(\"100% des textes ont une longueur de\", max_length, \"mots ou moins.\")"
   ]
  },
  {
   "cell_type": "code",
   "execution_count": 17,
   "metadata": {},
   "outputs": [
    {
     "name": "stdout",
     "output_type": "stream",
     "text": [
      "1207103                                           /volo02-a/\n",
      "960768                               /image0021083316404294/\n",
      "291482     /7dbjwpw6.asp?<img src=\"javascript:alert(cross...\n",
      "60772                                               /776171/\n",
      "446819                                            /93218228/\n",
      "201782                                           /000045336/\n",
      "1075655                                          /000118644/\n",
      "819209                                /software della poker/\n",
      "1111199                          /ugress - cowboy desperado/\n",
      "2684                                     /seinfeld s4e13-18/\n",
      "Name: query, dtype: object\n"
     ]
    }
   ],
   "source": [
    "# Afficher les 10 premières requêtes de X_train\n",
    "print(X_train.head(10))\n"
   ]
  },
  {
   "cell_type": "code",
   "execution_count": 18,
   "metadata": {},
   "outputs": [
    {
     "data": {
      "image/png": "[encoded data removed]",
      "text/plain": [
       "<Figure size 1000x600 with 1 Axes>"
      ]
     },
     "metadata": {},
     "output_type": "display_data"
    },
    {
     "name": "stdout",
     "output_type": "stream",
     "text": [
      "95% des textes ont une longueur de 2.0 mots ou moins.\n"
     ]
    }
   ],
   "source": [
    "import matplotlib.pyplot as plt\n",
    "import numpy as np\n",
    "\n",
    "# Calcul des longueurs de chaque texte\n",
    "text_lengths = [len(text.split()) for text in X_train]\n",
    "\n",
    "# Création de l'histogramme\n",
    "plt.figure(figsize=(10, 6))\n",
    "plt.hist(text_lengths, bins=30, color='skyblue', edgecolor='black')\n",
    "plt.title('Distribution des longueurs de texte dans X_train')\n",
    "plt.xlabel('Longueur du texte')\n",
    "plt.ylabel('Fréquence')\n",
    "plt.grid(True)\n",
    "plt.show()\n",
    "\n",
    "# Pour calculer le 95ème percentile de ces longueurs\n",
    "percentile_95 = np.percentile(text_lengths, 95)\n",
    "print(f\"95% des textes ont une longueur de {percentile_95} mots ou moins.\")\n"
   ]
  },
  {
   "cell_type": "markdown",
   "metadata": {},
   "source": [
    "### 2. **Déterminer `vocab_size`**\n",
    "`vocab_size` est le nombre de mots uniques dans votre corpus qui seront considérés par le modèle. Voici comment le définir :\n",
    "\n",
    "- **Calcul du vocabulaire** : Utilisez vos données d'entraînement pour déterminer combien de mots uniques existent.\n",
    "- **Choix de `vocab_size`** : Vous pourriez vouloir limiter ce nombre pour réduire la complexité du modèle et éviter l'overfitting. Un choix courant est de garder seulement les mots les plus fréquents, ce qui peut être effectué en utilisant un tokenizer ou un vectoriseur qui supporte cette fonctionnalité.\n",
    "- **Utilisation de Tokenizer de Keras** : Keras offre un outil pratique, `Tokenizer`, qui peut automatiquement gérer le vocabulaire et convertir les textes en séquences de mots. Vous pouvez le configurer pour utiliser uniquement les mots les plus fréquents.\n",
    "\n",
    "Exemple en Python pour ajuster `vocab_size` :\n",
    "```python"
   ]
  },
  {
   "cell_type": "markdown",
   "metadata": {},
   "source": [
    "\n",
    "\n",
    "from keras.preprocessing.text import Tokenizer\n",
    "\n",
    "# Initialisation du tokenizer avec une taille de vocabulaire limitée\n",
    "tokenizer = Tokenizer(num_words=20000)  # Supposons que vous voulez garder les 20,000 mots les plus fréquents\n",
    "tokenizer.fit_on_texts(X_train)\n",
    "\n",
    "# Vous pouvez maintenant utiliser tokenizer pour convertir les textes en séquences\n",
    "sequences = tokenizer.texts_to_sequences(X_train)\n",
    "\n",
    "# Accédez au dictionnaire de mots\n",
    "word_index = tokenizer.word_index\n",
    "print(f'Found {len(word_index)} unique tokens.')\n",
    "```\n",
    "\n",
    "Dans cet exemple, `num_words` dans `Tokenizer` contrôle la taille maximale du vocabulaire utilisé pour vectoriser les textes. Les mots au-delà de cette limite seront ignorés. Cela aide à gérer l'efficacité de la mémoire et à réduire le bruit potentiel de mots très rares dans la formation du modèle.\n",
    "\n",
    "En résumé, la détermination de `vocab_size` et `max_length` doit être faite de manière stratégique, basée sur une analyse de vos données spécifiques. Une bonne pratique consiste à expérimenter avec différentes valeurs pour voir leur impact sur les performances du modèle."
   ]
  },
  {
   "cell_type": "code",
   "execution_count": 19,
   "metadata": {},
   "outputs": [
    {
     "name": "stderr",
     "output_type": "stream",
     "text": [
      "2024-05-17 08:04:17.655279: I tensorflow/core/platform/cpu_feature_guard.cc:210] This TensorFlow binary is optimized to use available CPU instructions in performance-critical operations.\n",
      "To enable the following instructions: AVX2 AVX512F FMA, in other operations, rebuild TensorFlow with the appropriate compiler flags.\n",
      "2024-05-17 08:04:25.630924: W tensorflow/compiler/tf2tensorrt/utils/py_utils.cc:38] TF-TRT Warning: Could not find TensorRT\n"
     ]
    },
    {
     "name": "stdout",
     "output_type": "stream",
     "text": [
      "[[0 0 0 0 0 0 0 0 0 0 0 0 0 0 0 0 0 0 0 0 0 0 0 0 0 0 0 0 0 0 0 0 0 0 0 0\n",
      "  0 0 0 0 0 0 0 0 0 0 0 0 0 0 0 0 0 0 0 0 0 0 0 0 0 0 0 0 0 0 0 0 0 0 0 0\n",
      "  0 0 0 0 0 0 0 0 0 0 0 0 0 0 0 0 0 0 0 0 0 0 0 0 0 0 0 1]\n",
      " [0 0 0 0 0 0 0 0 0 0 0 0 0 0 0 0 0 0 0 0 0 0 0 0 0 0 0 0 0 0 0 0 0 0 0 0\n",
      "  0 0 0 0 0 0 0 0 0 0 0 0 0 0 0 0 0 0 0 0 0 0 0 0 0 0 0 0 0 0 0 0 0 0 0 0\n",
      "  0 0 0 0 0 0 0 0 0 0 0 0 0 0 0 0 0 0 0 0 0 0 0 0 0 0 0 1]]\n"
     ]
    }
   ],
   "source": [
    "from tensorflow.keras.preprocessing.text import Tokenizer\n",
    "from tensorflow.keras.preprocessing.sequence import pad_sequences\n",
    "\n",
    "# Étendre le vocabulaire\n",
    "tokens = ['/', '<', '>', 'script', 'alert', 'http', '.exe', '.jpg', '=', 'select', 'drop', '--', '%', '..\\\\']\n",
    "\n",
    "# Créer le tokenizer avec un vocabulaire plus large et configurer pour n-grams\n",
    "tokenizer = Tokenizer(num_words=len(tokens), filters='', lower=False, split=' ', char_level=False, oov_token=\"<OOV>\")\n",
    "tokenizer.fit_on_texts(tokens)  # Mettre à jour l'index avec ces tokens\n",
    "\n",
    "# Exemple de données avec des tokens potentiellement malveillants\n",
    "example_data = [\n",
    "    \"/examples/jsp/cal/search.php?allwords=<br><script>foo</script>&cid=0&title=1&desc=1\",\n",
    "    \"/moodle/filter/tex/texed.php?formdata=foo&pathname=foo\\\"+||+echo+db+4d+5a+50+00+02+00+00+00+04+00+0f+00+ff+ff+00+00+b8+00+00+00+00+00+00+00+40++>>esbq\"\n",
    "]\n",
    "\n",
    "# Tokenisation et padding des séquences\n",
    "sequences = tokenizer.texts_to_sequences(example_data)\n",
    "data = pad_sequences(sequences, maxlen=100)\n",
    "\n",
    "print(data)  # Affiche les séquences de données prêtes pour un modèle de réseau de neurones\n"
   ]
  },
  {
   "cell_type": "code",
   "execution_count": 20,
   "metadata": {},
   "outputs": [
    {
     "name": "stdout",
     "output_type": "stream",
     "text": [
      "Sequences: [[8, 9, 10, 11, 4, 12, 13, 5, 3, 5, 14, 15, 16, 6, 17, 6], [18, 19, 20, 21, 4, 22, 3, 23, 3, 24, 25, 26, 27, 28, 2, 29, 2, 2, 2, 30, 2, 31, 2, 7, 7, 2, 2, 32, 2, 2, 2, 2, 2, 2, 2, 33, 34]]\n",
      "Padded Sequences: [[ 8  9 10 11  4 12 13  5  3  5 14 15 16  6 17  6  0  0  0  0  0  0  0  0\n",
      "   0  0  0  0  0  0  0  0  0  0  0  0  0]\n",
      " [18 19 20 21  4 22  3 23  3 24 25 26 27 28  2 29  2  2  2 30  2 31  2  7\n",
      "   7  2  2 32  2  2  2  2  2  2  2 33 34]]\n",
      "Word Index: {'<OOV>': 1, '00': 2, 'foo': 3, 'php': 4, 'script': 5, '1': 6, 'ff': 7, 'examples': 8, 'jsp': 9, 'cal': 10, 'search': 11, 'allwords': 12, 'br': 13, 'cid': 14, '0': 15, 'title': 16, 'desc': 17, 'moodle': 18, 'filter': 19, 'tex': 20, 'texed': 21, 'formdata': 22, 'pathname': 23, 'echo': 24, 'db': 25, '4d': 26, '5a': 27, '50': 28, '02': 29, '04': 30, '0f': 31, 'b8': 32, '40': 33, 'esbq': 34}\n"
     ]
    }
   ],
   "source": [
    "import tensorflow as tf\n",
    "from tensorflow.keras.preprocessing.text import Tokenizer\n",
    "from tensorflow.keras.preprocessing.sequence import pad_sequences\n",
    "\n",
    "# Création du tokenizer\n",
    "tokenizer = Tokenizer(num_words=10000, oov_token='<OOV>')  # 'num_words' est le nombre max de mots à garder\n",
    "\n",
    "# Exemple de données\n",
    "example_data = [\n",
    "    \"/examples/jsp/cal/search.php?allwords=<br><script>foo</script>&cid=0&title=1&desc=1\",\n",
    "    \"/moodle/filter/tex/texed.php?formdata=foo&pathname=foo\\\"+||+echo+db+4d+5a+50+00+02+00+00+00+04+00+0f+00+ff+ff+00+00+b8+00+00+00+00+00+00+00+40++>>esbq\"\n",
    "]\n",
    "\n",
    "# Adapter le tokenizer aux données\n",
    "tokenizer.fit_on_texts(example_data)\n",
    "sequences = tokenizer.texts_to_sequences(example_data)\n",
    "padded = pad_sequences(sequences, padding='post')  # 'post' signifie que le padding est ajouté à la fin\n",
    "\n",
    "print(\"Sequences:\", sequences)\n",
    "print(\"Padded Sequences:\", padded)\n",
    "print(\"Word Index:\", tokenizer.word_index)  # Affiche le dictionnaire des mots indexés\n"
   ]
  },
  {
   "cell_type": "code",
   "execution_count": 21,
   "metadata": {},
   "outputs": [
    {
     "name": "stderr",
     "output_type": "stream",
     "text": [
      "2024-05-17 08:04:56.030156: I tensorflow/core/common_runtime/gpu/gpu_device.cc:1928] Created device /job:localhost/replica:0/task:0/device:GPU:0 with 13775 MB memory:  -> device: 0, name: Tesla T4, pci bus id: 0000:af:00.0, compute capability: 7.5\n"
     ]
    }
   ],
   "source": [
    "from keras.models import Sequential\n",
    "from keras.layers import Embedding, Conv1D, GlobalMaxPooling1D, Dense\n",
    "\n",
    "# Supposons que tokenizer a déjà été créé et formé\n",
    "\n",
    "tokenizer.fit_on_texts(X_train)\n",
    "sequences = tokenizer.texts_to_sequences(X_train)\n",
    "\n",
    "# Padding des séquences pour avoir la même longueur\n",
    "data = pad_sequences(sequences, maxlen=max_length)\n",
    "\n",
    "# Définition de vocab_size basé sur le tokenizer\n",
    "vocab_size = len(tokenizer.word_index) + 1  # +1 pour le token OOV si utilisé\n",
    "\n",
    "# Définir embedding_dim, par exemple à 100\n",
    "embedding_dim = 100\n",
    "\n",
    "# Calcul ou définition de max_length, vous pouvez utiliser un percentile comme décrit précédemment\n",
    "max_length = 150  # Supposons que vous avez choisi ce nombre basé sur l'analyse de la distribution des longueurs\n",
    "\n",
    "# Modèle\n",
    "from tensorflow.keras.models import Sequential\n",
    "from tensorflow.keras.layers import Embedding, Conv1D, GlobalMaxPooling1D, Dense\n",
    "\n",
    "model = Sequential()\n",
    "model.add(Embedding(input_dim=vocab_size, output_dim=embedding_dim))\n",
    "model.add(Conv1D(filters=128, kernel_size=5, activation='relu'))\n",
    "model.add(GlobalMaxPooling1D())\n",
    "model.add(Dense(1, activation='sigmoid'))\n",
    "\n",
    "model.compile(optimizer='adam', loss='binary_crossentropy', metrics=['accuracy'])\n",
    "\n"
   ]
  },
  {
   "cell_type": "code",
   "execution_count": 22,
   "metadata": {},
   "outputs": [
    {
     "name": "stdout",
     "output_type": "stream",
     "text": [
      "Epoch 1/10\n"
     ]
    },
    {
     "name": "stderr",
     "output_type": "stream",
     "text": [
      "WARNING: All log messages before absl::InitializeLog() is called are written to STDERR\n",
      "I0000 00:00:1715933100.317334     895 service.cc:145] XLA service 0x7f5c500016c0 initialized for platform CUDA (this does not guarantee that XLA will be used). Devices:\n",
      "I0000 00:00:1715933100.317411     895 service.cc:153]   StreamExecutor device (0): Tesla T4, Compute Capability 7.5\n",
      "2024-05-17 08:05:00.559045: I tensorflow/compiler/mlir/tensorflow/utils/dump_mlir_util.cc:268] disabling MLIR crash reproducer, set env var `MLIR_CRASH_REPRODUCER_DIRECTORY` to enable.\n",
      "2024-05-17 08:05:01.206484: I external/local_xla/xla/stream_executor/cuda/cuda_dnn.cc:465] Loaded cuDNN version 8900\n"
     ]
    },
    {
     "name": "stdout",
     "output_type": "stream",
     "text": [
      "\u001b[1m    7/33565\u001b[0m \u001b[37m━━━━━━━━━━━━━━━━━━━━\u001b[0m \u001b[1m10:02\u001b[0m 18ms/step - accuracy: 0.9251 - loss: 0.5998"
     ]
    },
    {
     "name": "stderr",
     "output_type": "stream",
     "text": [
      "I0000 00:00:1715933103.915149     895 device_compiler.h:188] Compiled cluster using XLA!  This line is logged at most once for the lifetime of the process.\n"
     ]
    },
    {
     "name": "stdout",
     "output_type": "stream",
     "text": [
      "\u001b[1m33565/33565\u001b[0m \u001b[32m━━━━━━━━━━━━━━━━━━━━\u001b[0m\u001b[37m\u001b[0m \u001b[1m524s\u001b[0m 15ms/step - accuracy: 0.9943 - loss: 0.0225\n",
      "Epoch 2/10\n",
      "\u001b[1m33565/33565\u001b[0m \u001b[32m━━━━━━━━━━━━━━━━━━━━\u001b[0m\u001b[37m\u001b[0m \u001b[1m513s\u001b[0m 15ms/step - accuracy: 0.9972 - loss: 0.0118\n",
      "Epoch 3/10\n",
      "\u001b[1m33565/33565\u001b[0m \u001b[32m━━━━━━━━━━━━━━━━━━━━\u001b[0m\u001b[37m\u001b[0m \u001b[1m517s\u001b[0m 15ms/step - accuracy: 0.9973 - loss: 0.0112\n",
      "Epoch 4/10\n",
      "\u001b[1m33565/33565\u001b[0m \u001b[32m━━━━━━━━━━━━━━━━━━━━\u001b[0m\u001b[37m\u001b[0m \u001b[1m524s\u001b[0m 16ms/step - accuracy: 0.9975 - loss: 0.0107\n",
      "Epoch 5/10\n",
      "\u001b[1m33565/33565\u001b[0m \u001b[32m━━━━━━━━━━━━━━━━━━━━\u001b[0m\u001b[37m\u001b[0m \u001b[1m531s\u001b[0m 16ms/step - accuracy: 0.9975 - loss: 0.0102\n",
      "Epoch 6/10\n",
      "\u001b[1m33565/33565\u001b[0m \u001b[32m━━━━━━━━━━━━━━━━━━━━\u001b[0m\u001b[37m\u001b[0m \u001b[1m530s\u001b[0m 16ms/step - accuracy: 0.9975 - loss: 0.0102\n",
      "Epoch 7/10\n",
      "\u001b[1m33565/33565\u001b[0m \u001b[32m━━━━━━━━━━━━━━━━━━━━\u001b[0m\u001b[37m\u001b[0m \u001b[1m530s\u001b[0m 16ms/step - accuracy: 0.9977 - loss: 0.0100\n",
      "Epoch 8/10\n",
      "\u001b[1m33565/33565\u001b[0m \u001b[32m━━━━━━━━━━━━━━━━━━━━\u001b[0m\u001b[37m\u001b[0m \u001b[1m530s\u001b[0m 16ms/step - accuracy: 0.9977 - loss: 0.0099\n",
      "Epoch 9/10\n",
      "\u001b[1m33565/33565\u001b[0m \u001b[32m━━━━━━━━━━━━━━━━━━━━\u001b[0m\u001b[37m\u001b[0m \u001b[1m529s\u001b[0m 16ms/step - accuracy: 0.9976 - loss: 0.0103\n",
      "Epoch 10/10\n",
      "\u001b[1m33565/33565\u001b[0m \u001b[32m━━━━━━━━━━━━━━━━━━━━\u001b[0m\u001b[37m\u001b[0m \u001b[1m530s\u001b[0m 16ms/step - accuracy: 0.9976 - loss: 0.0102\n"
     ]
    },
    {
     "data": {
      "text/plain": [
       "<keras.src.callbacks.history.History at 0x7f66cefc8cb0>"
      ]
     },
     "execution_count": 22,
     "metadata": {},
     "output_type": "execute_result"
    }
   ],
   "source": [
    "# Supposons que 'data' est votre matrice de features et 'y_train' vos labels\n",
    "model.fit(data, y_train, epochs=10, batch_size=32)"
   ]
  },
  {
   "cell_type": "code",
   "execution_count": null,
   "metadata": {},
   "outputs": [
    {
     "name": "stderr",
     "output_type": "stream",
     "text": [
      "/opt/mamba/lib/python3.12/site-packages/keras/src/layers/core/embedding.py:90: UserWarning: Argument `input_length` is deprecated. Just remove it.\n",
      "  warnings.warn(\n"
     ]
    },
    {
     "name": "stdout",
     "output_type": "stream",
     "text": [
      "Training for fold 1 ...\n",
      "Epoch 1/10\n",
      "\u001b[1m26852/26852\u001b[0m \u001b[32m━━━━━━━━━━━━━━━━━━━━\u001b[0m\u001b[37m\u001b[0m \u001b[1m428s\u001b[0m 16ms/step - accuracy: 0.9936 - loss: 0.0237\n",
      "Epoch 2/10\n",
      "\u001b[1m26852/26852\u001b[0m \u001b[32m━━━━━━━━━━━━━━━━━━━━\u001b[0m\u001b[37m\u001b[0m \u001b[1m422s\u001b[0m 16ms/step - accuracy: 0.9971 - loss: 0.0119\n",
      "Epoch 3/10\n",
      "\u001b[1m26852/26852\u001b[0m \u001b[32m━━━━━━━━━━━━━━━━━━━━\u001b[0m\u001b[37m\u001b[0m \u001b[1m423s\u001b[0m 16ms/step - accuracy: 0.9973 - loss: 0.0112\n",
      "Epoch 4/10\n",
      "\u001b[1m26852/26852\u001b[0m \u001b[32m━━━━━━━━━━━━━━━━━━━━\u001b[0m\u001b[37m\u001b[0m \u001b[1m423s\u001b[0m 16ms/step - accuracy: 0.9974 - loss: 0.0109\n",
      "Epoch 5/10\n",
      "\u001b[1m26852/26852\u001b[0m \u001b[32m━━━━━━━━━━━━━━━━━━━━\u001b[0m\u001b[37m\u001b[0m \u001b[1m424s\u001b[0m 16ms/step - accuracy: 0.9975 - loss: 0.0104\n",
      "Epoch 6/10\n",
      "\u001b[1m26852/26852\u001b[0m \u001b[32m━━━━━━━━━━━━━━━━━━━━\u001b[0m\u001b[37m\u001b[0m \u001b[1m428s\u001b[0m 16ms/step - accuracy: 0.9976 - loss: 0.0102\n",
      "Epoch 7/10\n",
      "\u001b[1m26852/26852\u001b[0m \u001b[32m━━━━━━━━━━━━━━━━━━━━\u001b[0m\u001b[37m\u001b[0m \u001b[1m429s\u001b[0m 16ms/step - accuracy: 0.9976 - loss: 0.0103\n",
      "Epoch 8/10\n",
      "\u001b[1m26852/26852\u001b[0m \u001b[32m━━━━━━━━━━━━━━━━━━━━\u001b[0m\u001b[37m\u001b[0m \u001b[1m429s\u001b[0m 16ms/step - accuracy: 0.9977 - loss: 0.0101\n",
      "Epoch 9/10\n",
      "\u001b[1m26852/26852\u001b[0m \u001b[32m━━━━━━━━━━━━━━━━━━━━\u001b[0m\u001b[37m\u001b[0m \u001b[1m428s\u001b[0m 16ms/step - accuracy: 0.9976 - loss: 0.0100\n",
      "Epoch 10/10\n",
      "\u001b[1m26852/26852\u001b[0m \u001b[32m━━━━━━━━━━━━━━━━━━━━\u001b[0m\u001b[37m\u001b[0m \u001b[1m429s\u001b[0m 16ms/step - accuracy: 0.9978 - loss: 0.0093\n",
      "Training for fold 2 ...\n",
      "Epoch 1/10\n",
      "\u001b[1m26852/26852\u001b[0m \u001b[32m━━━━━━━━━━━━━━━━━━━━\u001b[0m\u001b[37m\u001b[0m \u001b[1m434s\u001b[0m 16ms/step - accuracy: 0.9937 - loss: 0.0245\n",
      "Epoch 2/10\n",
      "\u001b[1m26852/26852\u001b[0m \u001b[32m━━━━━━━━━━━━━━━━━━━━\u001b[0m\u001b[37m\u001b[0m \u001b[1m429s\u001b[0m 16ms/step - accuracy: 0.9971 - loss: 0.0120\n",
      "Epoch 3/10\n",
      "\u001b[1m26852/26852\u001b[0m \u001b[32m━━━━━━━━━━━━━━━━━━━━\u001b[0m\u001b[37m\u001b[0m \u001b[1m429s\u001b[0m 16ms/step - accuracy: 0.9973 - loss: 0.0110\n",
      "Epoch 4/10\n",
      "\u001b[1m26852/26852\u001b[0m \u001b[32m━━━━━━━━━━━━━━━━━━━━\u001b[0m\u001b[37m\u001b[0m \u001b[1m429s\u001b[0m 16ms/step - accuracy: 0.9974 - loss: 0.0109\n",
      "Epoch 5/10\n",
      "\u001b[1m26852/26852\u001b[0m \u001b[32m━━━━━━━━━━━━━━━━━━━━\u001b[0m\u001b[37m\u001b[0m \u001b[1m428s\u001b[0m 16ms/step - accuracy: 0.9975 - loss: 0.0103\n",
      "Epoch 6/10\n",
      "\u001b[1m26852/26852\u001b[0m \u001b[32m━━━━━━━━━━━━━━━━━━━━\u001b[0m\u001b[37m\u001b[0m \u001b[1m429s\u001b[0m 16ms/step - accuracy: 0.9976 - loss: 0.0096\n",
      "Epoch 7/10\n",
      "\u001b[1m26852/26852\u001b[0m \u001b[32m━━━━━━━━━━━━━━━━━━━━\u001b[0m\u001b[37m\u001b[0m \u001b[1m428s\u001b[0m 16ms/step - accuracy: 0.9976 - loss: 0.0101\n",
      "Epoch 8/10\n",
      "\u001b[1m26852/26852\u001b[0m \u001b[32m━━━━━━━━━━━━━━━━━━━━\u001b[0m\u001b[37m\u001b[0m \u001b[1m428s\u001b[0m 16ms/step - accuracy: 0.9976 - loss: 0.0097\n",
      "Epoch 9/10\n",
      "\u001b[1m26852/26852\u001b[0m \u001b[32m━━━━━━━━━━━━━━━━━━━━\u001b[0m\u001b[37m\u001b[0m \u001b[1m427s\u001b[0m 16ms/step - accuracy: 0.9976 - loss: 0.0101\n",
      "Epoch 10/10\n",
      "\u001b[1m26852/26852\u001b[0m \u001b[32m━━━━━━━━━━━━━━━━━━━━\u001b[0m\u001b[37m\u001b[0m \u001b[1m427s\u001b[0m 16ms/step - accuracy: 0.9976 - loss: 0.0100\n",
      "Training for fold 3 ...\n",
      "Epoch 1/10\n",
      "\u001b[1m26852/26852\u001b[0m \u001b[32m━━━━━━━━━━━━━━━━━━━━\u001b[0m\u001b[37m\u001b[0m \u001b[1m431s\u001b[0m 16ms/step - accuracy: 0.9937 - loss: 0.0236\n",
      "Epoch 2/10\n",
      "\u001b[1m26852/26852\u001b[0m \u001b[32m━━━━━━━━━━━━━━━━━━━━\u001b[0m\u001b[37m\u001b[0m \u001b[1m427s\u001b[0m 16ms/step - accuracy: 0.9970 - loss: 0.0121\n",
      "Epoch 3/10\n",
      "\u001b[1m26852/26852\u001b[0m \u001b[32m━━━━━━━━━━━━━━━━━━━━\u001b[0m\u001b[37m\u001b[0m \u001b[1m426s\u001b[0m 16ms/step - accuracy: 0.9973 - loss: 0.0113\n",
      "Epoch 4/10\n",
      "\u001b[1m26852/26852\u001b[0m \u001b[32m━━━━━━━━━━━━━━━━━━━━\u001b[0m\u001b[37m\u001b[0m \u001b[1m427s\u001b[0m 16ms/step - accuracy: 0.9975 - loss: 0.0105\n",
      "Epoch 5/10\n",
      "\u001b[1m26852/26852\u001b[0m \u001b[32m━━━━━━━━━━━━━━━━━━━━\u001b[0m\u001b[37m\u001b[0m \u001b[1m427s\u001b[0m 16ms/step - accuracy: 0.9975 - loss: 0.0104\n",
      "Epoch 6/10\n",
      "\u001b[1m26852/26852\u001b[0m \u001b[32m━━━━━━━━━━━━━━━━━━━━\u001b[0m\u001b[37m\u001b[0m \u001b[1m426s\u001b[0m 16ms/step - accuracy: 0.9977 - loss: 0.0097\n",
      "Epoch 7/10\n",
      "\u001b[1m26852/26852\u001b[0m \u001b[32m━━━━━━━━━━━━━━━━━━━━\u001b[0m\u001b[37m\u001b[0m \u001b[1m426s\u001b[0m 16ms/step - accuracy: 0.9977 - loss: 0.0098\n",
      "Epoch 8/10\n",
      "\u001b[1m24036/26852\u001b[0m \u001b[32m━━━━━━━━━━━━━━━━━\u001b[0m\u001b[37m━━━\u001b[0m \u001b[1m44s\u001b[0m 16ms/step - accuracy: 0.9977 - loss: 0.0094"
     ]
    }
   ],
   "source": [
    "import numpy as np\n",
    "import time\n",
    "from sklearn.model_selection import KFold\n",
    "from tensorflow.keras.models import Sequential\n",
    "from tensorflow.keras.layers import Embedding, Conv1D, GlobalMaxPooling1D, Dense\n",
    "\n",
    "# Assurez-vous que 'data' et 'y_train' sont des numpy arrays\n",
    "data_array = np.array(data)\n",
    "y_train_array = np.array(y_train)\n",
    "\n",
    "# Exemple de boucle de validation croisée avec les modifications\n",
    "num_folds = 5\n",
    "kfold = KFold(n_splits=num_folds, shuffle=True)\n",
    "\n",
    "fold_no = 1\n",
    "acc_per_fold = []\n",
    "loss_per_fold = []\n",
    "times_per_fold = []\n",
    "\n",
    "for train, test in kfold.split(data_array, y_train_array):\n",
    "    model = Sequential([\n",
    "        Embedding(input_dim=vocab_size, output_dim=embedding_dim, input_length=max_length),\n",
    "        Conv1D(filters=128, kernel_size=5, activation='relu'),\n",
    "        GlobalMaxPooling1D(),\n",
    "        Dense(1, activation='sigmoid')\n",
    "    ])\n",
    "    \n",
    "    model.compile(optimizer='adam', loss='binary_crossentropy', metrics=['accuracy'])\n",
    "\n",
    "    # Début du chronomètre\n",
    "    start_time = time.time()\n",
    "\n",
    "    # Entraînement\n",
    "    print(f'Training for fold {fold_no} ...')\n",
    "    model.fit(data_array[train], y_train_array[train], batch_size=32, epochs=10, verbose=1)\n",
    "\n",
    "    # Évaluation du modèle\n",
    "    scores = model.evaluate(data_array[test], y_train_array[test], verbose=0)\n",
    "\n",
    "    # Fin du chronomètre\n",
    "    end_time = time.time()\n",
    "    elapsed_time = end_time - start_time\n",
    "    times_per_fold.append(elapsed_time)\n",
    "\n",
    "    # Stockage des scores\n",
    "    acc_per_fold.append(scores[1] * 100)\n",
    "    loss_per_fold.append(scores[0])\n",
    "\n",
    "    fold_no += 1\n",
    "\n",
    "# Affichage des résultats\n",
    "print('------------------------------------------------------------------------')\n",
    "print('Score per fold')\n",
    "for i in range(len(acc_per_fold)):\n",
    "    print(f'> Fold {i+1} - Loss: {loss_per_fold[i]} - Accuracy: {acc_per_fold[i]}% - Time: {times_per_fold[i]:.2f} sec')\n",
    "print('------------------------------------------------------------------------')\n",
    "print(f'Average scores for all folds:')\n",
    "print(f'> Accuracy: {np.mean(acc_per_fold)} (+- {np.std(acc_per_fold)})')\n",
    "print(f'> Loss: {np.mean(loss_per_fold)}')\n",
    "print(f'> Average Time per Fold: {np.mean(times_per_fold):.2f} sec')\n",
    "print('------------------------------------------------------------------------')\n"
   ]
  },
  {
   "cell_type": "markdown",
   "metadata": {},
   "source": [
    "\n",
    "\n",
    "### Représentation du modèle de réseau de neurones\n",
    "\n",
    "```plaintext\n",
    "+------------------------------------------------------+\n",
    "|                       Input                          |\n",
    "|                                                      |\n",
    "|  [input_dim=vocab_size, input_length=max_length]     |\n",
    "+------------------------------------------------------+\n",
    "                            |\n",
    "                            v\n",
    "+------------------------------------------------------+\n",
    "|                   Embedding Layer                    |\n",
    "|                                                      |\n",
    "|       [output_dim=embedding_dim, input_length=max_length]  |\n",
    "+------------------------------------------------------+\n",
    "                            |\n",
    "                            v\n",
    "+------------------------------------------------------+\n",
    "|                    Conv1D Layer                      |\n",
    "|                                                      |\n",
    "|       [filters=128, kernel_size=5, activation='relu']|\n",
    "+------------------------------------------------------+\n",
    "                            |\n",
    "                            v\n",
    "+------------------------------------------------------+\n",
    "|               GlobalMaxPooling1D Layer               |\n",
    "+------------------------------------------------------+\n",
    "                            |\n",
    "                            v\n",
    "+------------------------------------------------------+\n",
    "|                    Dense Layer                       |\n",
    "|                                                      |\n",
    "|               [units=1, activation='sigmoid']        |\n",
    "+------------------------------------------------------+\n",
    "                            |\n",
    "                            v\n",
    "+------------------------------------------------------+\n",
    "|                      Output                          |\n",
    "+------------------------------------------------------+\n",
    "```\n",
    "\n",
    "### Description des couches :\n",
    "\n",
    "1. **Input Layer**: Reçoit une séquence de longueur `max_length` avec un vocabulaire de taille `vocab_size`.\n",
    "2. **Embedding Layer**: Transforme les indices de mots en vecteurs d'embeddings de dimension `embedding_dim`.\n",
    "3. **Conv1D Layer**: Applique une convolution 1D avec `128` filtres de taille `5` et utilise la fonction d'activation ReLU.\n",
    "4. **GlobalMaxPooling1D Layer**: Effectue une réduction maximale sur toute la séquence, conservant les caractéristiques les plus importantes.\n",
    "5. **Dense Layer**: C'est une couche complètement connectée avec une unité de sortie et une fonction d'activation sigmoïde pour produire une probabilité.\n",
    "\n",
    "Ce diagramme et cette description devraient fournir une représentation claire et académique du réseau de neurones que tu as décrit."
   ]
  },
  {
   "cell_type": "markdown",
   "metadata": {},
   "source": [
    "Les résultats de la validation croisée que vous avez obtenus sont très encourageants. Avec une précision moyenne de 97.36% et une très faible variation (écart-type de 0.22%), votre modèle semble bien généraliser sur différentes partitions de vos données. Voici quelques points à considérer et des étapes possibles pour améliorer encore ou valider davantage votre modèle :\n",
    "\n",
    "### Analyse des Résultats\n",
    "1. **Stabilité du Modèle** : La faible variation dans les scores de précision indique que le modèle est stable à travers différents sous-ensembles de données, ce qui est un signe positif de sa capacité à généraliser.\n",
    "2. **Consistance de la Perte** : La perte moyenne est également assez faible et constante à travers les plis, ce qui suggère que le modèle ne souffre pas de surapprentissage significatif.\n",
    "\n",
    "### Étapes Suivantes\n",
    "1. **Examen des Erreurs** : Analysez les cas où le modèle fait des erreurs pour voir s'il y a des patterns spécifiques ou des types de données sur lesquels il ne performe pas bien.\n",
    "2. **Optimisation des Hyperparamètres** : Bien que les résultats soient déjà excellents, vous pourriez explorer l'optimisation des hyperparamètres pour voir si de légers ajustements peuvent améliorer encore les performances. Cela peut inclure l'ajustement de la taille des embeddings, la modification des tailles de filtres ou des couches dans le modèle CNN, ou l'expérimentation avec différents optimiseurs ou taux d'apprentissage.\n",
    "3. **Validation Externe** : Si possible, testez le modèle sur un ensemble de données externe qui n'a pas été utilisé pendant l'entraînement ou la validation croisée pour évaluer sa robustesse dans des conditions réelles.\n",
    "4. **Augmentation de Données** : Pour les tâches de traitement du texte, notamment dans le contexte de la sécurité ou des requêtes HTTP, l'augmentation des données (par exemple, par la génération synthétique de données textuelles similaires) pourrait aider à améliorer la robustesse du modèle.\n",
    "\n",
    "### Considérations Finales\n",
    "- **Interprétabilité** : Si c'est important pour votre application, envisagez des techniques pour rendre le modèle plus interprétable, comme l'analyse des poids de la couche d'embedding ou l'utilisation de techniques telles que LIME ou SHAP pour expliquer les prédictions.\n",
    "- **Déploiement** : Planifiez le déploiement du modèle, ce qui peut inclure l'intégration à des systèmes existants, la surveillance de la performance en production, et l'établissement de pipelines pour la mise à jour régulière du modèle avec de nouvelles données.\n",
    "\n",
    "Ces scores montrent que vous avez un modèle solide pour votre tâche de classification, et ces étapes vous aideront à l'optimiser et à le préparer pour un déploiement efficace."
   ]
  },
  {
   "cell_type": "markdown",
   "metadata": {},
   "source": [
    "Examiner les erreurs qu'un modèle de machine learning fait pendant le test ou la validation est crucial pour comprendre ses limites et pour identifier des pistes d'amélioration. Voici une approche en plusieurs étapes pour examiner les erreurs de votre modèle de classification de texte, en utilisant les données et les prédictions :\n",
    "\n",
    "### 1. **Collecter les Prédictions et les Vraies Étiquettes**\n",
    "D'abord, assurez-vous de collecter les prédictions de votre modèle ainsi que les vraies étiquettes des données sur lesquelles il a été testé.\n"
   ]
  },
  {
   "cell_type": "code",
   "execution_count": null,
   "metadata": {},
   "outputs": [],
   "source": [
    "predictions = model.predict(data[test])\n",
    "predicted_labels = (predictions > 0.5).astype(int)  # Seuil de 0.5 pour la classification binaire"
   ]
  },
  {
   "cell_type": "markdown",
   "metadata": {},
   "source": [
    "### 2. **Comparer les Prédictions aux Vraies Étiquettes**\n",
    "Ensuite, comparez les prédictions aux vraies étiquettes pour identifier où le modèle se trompe.\n"
   ]
  },
  {
   "cell_type": "code",
   "execution_count": null,
   "metadata": {},
   "outputs": [],
   "source": [
    "incorrect_indices = np.where(predicted_labels.flatten() != y_train_array[test])[0]\n"
   ]
  },
  {
   "cell_type": "code",
   "execution_count": null,
   "metadata": {},
   "outputs": [],
   "source": [
    "for index in incorrect_indices:\n",
    "    print(f\"Text: {X_train.iloc[test[index]]}\")  # Assurez-vous que c'est correct pour l'accès à X_train\n",
    "    print(f\"Predicted Label: {predicted_labels[index][0]}\")\n",
    "    print(f\"True Label: {y_train_array[test[index]]}\")\n",
    "    print(\"-\" * 80)\n"
   ]
  },
  {
   "cell_type": "markdown",
   "metadata": {},
   "source": [
    "### 3. **Analyse des Erreurs**\n",
    "Pour chaque instance mal classifiée, examinez le texte, la prédiction du modèle, et la vraie étiquette. Cela peut vous aider à identifier des patterns ou des types de textes spécifiques pour lesquels le modèle ne performe pas bien."
   ]
  },
  {
   "cell_type": "code",
   "execution_count": null,
   "metadata": {},
   "outputs": [],
   "source": [
    "from sklearn.metrics import confusion_matrix\n",
    "import matplotlib.pyplot as plt\n",
    "import seaborn as sns\n",
    "\n",
    "# Assurez-vous d'avoir `y_train_array` disponible comme numpy array\n",
    "true_labels = y_train_array[test]  # Utilisez les vraies étiquettes pour l'ensemble de test\n",
    "cm = confusion_matrix(true_labels, predicted_labels.flatten())\n"
   ]
  },
  {
   "cell_type": "code",
   "execution_count": null,
   "metadata": {},
   "outputs": [],
   "source": [
    "# Configuration pour une meilleure visualisation\n",
    "plt.figure(figsize=(8, 6))\n",
    "sns.heatmap(cm, annot=True, fmt=\"d\", cmap='Blues', xticklabels=['Good', 'Bad'], yticklabels=['Good', 'Bad'])\n",
    "plt.xlabel('Predicted Label')\n",
    "plt.ylabel('True Label')\n",
    "plt.title('Confusion Matrix')\n",
    "plt.show()\n"
   ]
  },
  {
   "cell_type": "markdown",
   "metadata": {},
   "source": [
    "Pour identifier spécifiquement les instances où le modèle a prédit à tort des valeurs positives (dans votre cas, classifiant à tort des requêtes comme \"bonnes\" alors qu'elles étaient en réalité des \"mauvaises requêtes\"), vous pouvez suivre les étapes suivantes pour isoler ces cas et les examiner plus en détail. \n",
    "\n",
    "#### 1. **Obtenir les Indices des Erreurs de Type I (Faux Positifs)**\n",
    "Vous pouvez calculer les faux positifs en comparant les étiquettes prédites avec les vraies étiquettes. Utilisez les indices pour localiser les erreurs dans vos données.\n"
   ]
  },
  {
   "cell_type": "code",
   "execution_count": null,
   "metadata": {},
   "outputs": [],
   "source": [
    "import numpy as np\n",
    "\n",
    "# predictions a déjà été généré par model.predict(data[test])\n",
    "predicted_labels = (predictions > 0.5).astype(int)  # Assurez-vous que cela est adapté à votre seuil\n",
    "\n",
    "# Assurez-vous d'avoir `y_train_array` comme numpy array\n",
    "true_labels = y_train_array[test]  # Utilisez les vraies étiquettes de l'ensemble de test\n",
    "\n",
    "# Trouver les indices des faux positifs\n",
    "false_positives = np.where((predicted_labels.flatten() == 1) & (true_labels == 0))[0]"
   ]
  },
  {
   "cell_type": "markdown",
   "metadata": {},
   "source": [
    "#### 2. **Extraire les Requêtes Correspondantes**\n",
    "Avec les indices des faux positifs, vous pouvez extraire les requêtes HTTP correspondantes de votre ensemble de test pour les examiner. Cela nécessite que `X_train` ou l'ensemble de données original soit accessible et correctement aligné avec `data[test]`."
   ]
  },
  {
   "cell_type": "code",
   "execution_count": null,
   "metadata": {},
   "outputs": [],
   "source": [
    "# Assurez-vous que X_train est accessible et que son indexation est correcte\n",
    "false_positive_texts = X_train.iloc[test[false_positives]]  # Utilisez iloc si X_train est un DataFrame\n",
    "\n",
    "# Afficher les textes mal classifiés\n",
    "print(\"Faux Positifs (Good requests prises pour des Bad requests) :\")\n",
    "for i, text in enumerate(false_positive_texts):\n",
    "    print(f\"{i + 1}: {text}\")"
   ]
  },
  {
   "cell_type": "markdown",
   "metadata": {},
   "source": [
    "\n",
    "#### 3. **Analyse des Textes Faux Positifs**\n",
    "Une fois que vous avez identifié les requêtes mal classifiées, vous pouvez :\n",
    "\n",
    "- **Revoir le Contenu** : Examinez le contenu des requêtes pour identifier des caractéristiques communes ou des motifs qui pourraient avoir trompé le modèle.\n",
    "- **Considérer le Contexte** : Pensez au contexte ou à la structure spécifique des requêtes qui pourrait être mal interprétée par le modèle.\n",
    "\n",
    "#### 4. **Amélioration du Modèle**\n",
    "En fonction de vos observations, vous pourriez envisager des ajustements tels que :\n",
    "\n",
    "- **Amélioration de la Préparation des Données** : Ajoutez un nettoyage plus spécifique ou des transformations pour mieux capter les caractéristiques des \"bad requests\".\n",
    "- **Entraînement Supplémentaire** : Entraînez le modèle avec plus de données, en particulier en augmentant les exemples de \"bad requests\" similaires à ceux mal classifiés.\n",
    "- **Ajustement de l'Architecture du Modèle** : Modifiez le modèle pour mieux capturer les caractéristiques pertinentes, ou ajoutez des couches de régularisation si le modèle surajuste certaines caractéristiques non pertinentes.\n",
    "\n",
    "En suivant ces étapes, vous pourrez non seulement identifier les erreurs spécifiques de votre modèle mais également prendre des mesures informées pour améliorer sa performance générale."
   ]
  },
  {
   "cell_type": "markdown",
   "metadata": {},
   "source": [
    "Pour identifier spécifiquement les instances où votre modèle a prédit incorrectement des valeurs négatives alors qu'elles étaient positives (dans votre contexte, cela signifierait que des \"bad requests\" ont été faussement classifiées comme \"good requests\"), vous pouvez suivre une approche similaire à celle utilisée pour les faux positifs mais inverser la logique pour détecter les faux négatifs.\n",
    "\n",
    "### Étapes pour identifier les faux négatifs:\n",
    "\n",
    "1. **Calcul des Faux Négatifs**:\n",
    "   Utilisez les prédictions et les vraies étiquettes pour identifier où le modèle a prédit '0' (négatif) alors que la vraie étiquette était '1' (positif).\n",
    "\n",
    "2. **Extraire les Textes Correspondants**:\n",
    "   Utilisez les indices obtenus pour extraire les requêtes correspondantes de votre ensemble de données.\n",
    "\n",
    "### Code pour les faux négatifs:\n",
    "\n",
    "Assurez-vous que `predictions`, `y_train_array`, et `test` sont définis comme expliqué précédemment.\n"
   ]
  },
  {
   "cell_type": "code",
   "execution_count": null,
   "metadata": {},
   "outputs": [],
   "source": [
    "import numpy as np\n",
    "\n",
    "# Prédiction à partir du modèle, assurez-vous que cela est déjà fait\n",
    "predicted_labels = (predictions > 0.5).astype(int)  # Appliquer un seuil de 0.5 pour la classification binaire\n",
    "\n",
    "# Calculer les indices des faux négatifs\n",
    "false_negatives = np.where((predicted_labels.flatten() == 0) & (y_train_array[test] == 1))[0]\n",
    "\n",
    "# Supposons que X_train est un DataFrame Pandas accessible et que les indices sont alignés\n",
    "# Si X_train est sous forme de numpy array ou list, assurez-vous d'utiliser la méthode d'accès correcte\n",
    "false_negative_texts = X_train.iloc[test[false_negatives]]\n",
    "\n",
    "# Afficher les textes mal classifiés\n",
    "print(\"Faux Négatifs (Bad requests classifiées comme Good) :\")\n",
    "for i, text in enumerate(false_negative_texts):\n",
    "    print(f\"{i + 1}: {text}\")"
   ]
  },
  {
   "cell_type": "markdown",
   "metadata": {},
   "source": [
    "\n",
    "#### Explications:\n",
    "- **`np.where()`**: Cette fonction est utilisée pour trouver les indices des éléments qui satisfont la condition spécifiée, ici étant les cas où les prédictions ne correspondent pas aux étiquettes attendues et où les vraies étiquettes sont positives ('1').\n",
    "- **`predicted_labels.flatten()`**: Assure que le tableau de prédictions est une dimension pour correspondre avec le tableau de vraies étiquettes.\n",
    "- **`X_train.iloc[test[false_negatives]]`**: Extrayez les textes spécifiques de `X_train` qui correspondent aux indices des faux négatifs. Assurez-vous que l'indexation de `X_train` est correctement configurée pour cela.\n",
    "\n",
    "Cette approche vous permettra d'examiner les cas où des requêtes malicieuses ou incorrectes (bad requests) ont été incorrectement classifiées comme légitimes (good requests), vous aidant ainsi à identifier les lacunes potentielles dans le modèle ou les données qui nécessitent une attention particulière."
   ]
  },
  {
   "cell_type": "markdown",
   "metadata": {},
   "source": [
    " Ces faux négatifs sont des erreurs critiques, surtout dans le contexte de la sécurité des systèmes, car ils représentent des menaces potentielles qui ne sont pas identifiées.\n",
    "\n",
    "### Analyse des Faux Négatifs\n",
    "Les exemples montrent une variété de patterns typiques des attaques ou des tentatives de manipulation, telles que :\n",
    "- Injections SQL ou de commandes (`rm`, `del`).\n",
    "- Utilisation de caractères spéciaux et d'encodages pour masquer des tentatives malveillantes (`%00`, `../`, `</`).\n",
    "- Noms qui suggèrent des tentatives d'accès à des ressources sensibles ou des scripts (`script`, `transcript`, `ini`).\n",
    "\n",
    "### Étapes pour améliorer la détection\n",
    "1. **Amélioration de la Tokenisation** :\n",
    "   - Revisez votre `custom_tokenizer` pour vous assurer qu'il capture efficacement les éléments importants qui indiquent des requêtes malveillantes. Par exemple, vous voudrez peut-être capturer des séquences de caractères spécifiques qui apparaissent souvent dans les attaques.\n"
   ]
  },
  {
   "cell_type": "code",
   "execution_count": null,
   "metadata": {},
   "outputs": [],
   "source": [
    "from tensorflow.keras.preprocessing.text import Tokenizer\n",
    "from tensorflow.keras.preprocessing.sequence import pad_sequences\n",
    "\n",
    "# Étendre le vocabulaire\n",
    "tokens = ['/', '<', '>', 'script', 'alert', 'http', '.exe', '.jpg', '=', 'select', 'drop', '--', '%', '..\\\\']\n",
    "\n",
    "# Créer le tokenizer avec un vocabulaire plus large et configurer pour n-grams\n",
    "tokenizer = Tokenizer(num_words=len(tokens), filters='', lower=False, split=' ', char_level=False, oov_token=\"<OOV>\")\n",
    "tokenizer.fit_on_texts(tokens)  # Mettre à jour l'index avec ces tokens\n",
    "\n",
    "# Exemple de données avec des tokens potentiellement malveillants\n",
    "example_data = [\n",
    "    \"/examples/jsp/cal/search.php?allwords=<br><script>foo</script>&cid=0&title=1&desc=1\",\n",
    "    \"/moodle/filter/tex/texed.php?formdata=foo&pathname=foo\\\"+||+echo+db+4d+5a+50+00+02+00+00+00+04+00+0f+00+ff+ff+00+00+b8+00+00+00+00+00+00+00+40++>>esbq\"\n",
    "]\n",
    "\n",
    "# Tokenisation et padding des séquences\n",
    "sequences = tokenizer.texts_to_sequences(example_data)\n",
    "data = pad_sequences(sequences, maxlen=100)\n",
    "\n",
    "print(data)  # Affiche les séquences de données prêtes pour un modèle de réseau de neurones\n"
   ]
  },
  {
   "cell_type": "markdown",
   "metadata": {},
   "source": [
    "2. **Enrichissement des Données** :\n",
    "   - Si possible, enrichissez votre ensemble de données avec plus d'exemples de ce type de requêtes malveillantes, surtout ceux qui sont mal classifiés.\n",
    "   - Utilisez des techniques d'augmentation de données pour créer de nouvelles instances d'entraînement basées sur les modèles trouvés dans les faux négatifs.\n",
    "\n",
    "\n",
    "NON FAIT"
   ]
  },
  {
   "cell_type": "markdown",
   "metadata": {},
   "source": [
    "3. **Réévaluation des Features** :\n",
    "   - Examinez les caractéristiques (features) extraites par le `TfidfVectorizer` et considérez l'ajustement des paramètres comme `ngram_range` pour capturer des motifs plus larges ou plus complexes.\n",
    "   - Envisagez l'utilisation d'embeddings de mots plus sophistiqués qui pourraient capturer le contexte mieux que les simples TF-IDF.\n",
    "  \n",
    "\n",
    "NON FAIT"
   ]
  },
  {
   "cell_type": "markdown",
   "metadata": {},
   "source": [
    "4. **Réglage du Modèle** :\n",
    "   - Ajustez les seuils de classification pour le modèle afin de réduire le taux de faux négatifs, ce qui peut être particulièrement important si éviter les mauvaises classifications est plus critique que de capturer chaque bonne requête.\n",
    "   - Testez différentes architectures de modèle ou introduisez des techniques comme le bagging ou le boosting pour voir si cela améliore la robustesse du modèle."
   ]
  },
  {
   "cell_type": "markdown",
   "metadata": {},
   "source": [
    "5. **Utilisation de Techniques de Détection Anomale** :\n",
    "   - Pour les requêtes qui ne s'inscrivent pas clairement dans les patterns normaux mais qui sont également difficiles à classer directement comme malveillantes, envisagez des techniques de détection d'anomalies.\n",
    "\n",
    "Ces étapes devraient aider à améliorer la capacité de votre modèle à identifier correctement les mauvaises requêtes, en réduisant le nombre de faux négatifs et en augmentant la sécurité globale du système que vous cherchez à protéger."
   ]
  },
  {
   "cell_type": "markdown",
   "metadata": {},
   "source": [
    "### 4. **Analyse Qualitative et Quantitative**\n",
    "- **Qualitative** : Lisez les textes que le modèle a mal classifiés pour voir s'il y a des caractéristiques communes, comme des erreurs d'orthographe, des abréviations, des structures grammaticales complexes, etc.\n",
    "- **Quantitative** : Analysez statistiquement les types d'erreurs. Par exemple, regardez si certaines classes sont plus sujettes aux erreurs ou si certains types de requêtes sont systématiquement mal classés."
   ]
  },
  {
   "cell_type": "markdown",
   "metadata": {},
   "source": [
    "### 5. **Visualisation des Erreurs**\n",
    "Utiliser des visualisations comme des matrices de confusion pour mieux comprendre les types d'erreurs (par exemple, quelle classe est souvent confondue avec quelle autre) :\n"
   ]
  },
  {
   "cell_type": "markdown",
   "metadata": {},
   "source": [
    "### 6. **Feedback Loop**\n",
    "Utilisez ces informations pour affiner votre modèle. Cela peut impliquer l'ajustement de la préparation des données, la modification des paramètres du modèle, ou même la reformulation de la façon dont les données sont présentées au modèle.\n",
    "\n",
    "L'examen des erreurs est un processus continu qui peut nécessiter plusieurs itérations pour isoler et résoudre les problèmes sous-jacents. C'est aussi une excellente opportunité pour découvrir des améliorations potentielles non seulement dans le modèle, mais aussi dans la collecte ou le traitement des données."
   ]
  },
  {
   "cell_type": "markdown",
   "metadata": {},
   "source": [
    "### Comparaison des résultats selon le Tokenizer\n",
    "\n",
    "Le modèle 1 dans good_bad_CNN.ipynb :"
   ]
  },
  {
   "cell_type": "raw",
   "metadata": {},
   "source": [
    "Score per fold\n",
    "> Fold 1 - Loss: 0.13836640119552612 - Accuracy: 97.12499976158142%\n",
    "> Fold 2 - Loss: 0.11552897095680237 - Accuracy: 97.40625023841858%\n",
    "> Fold 3 - Loss: 0.13169389963150024 - Accuracy: 97.03124761581421%\n",
    "> Fold 4 - Loss: 0.1650751531124115 - Accuracy: 96.78124785423279%\n",
    "> Fold 5 - Loss: 0.13054288923740387 - Accuracy: 97.3437488079071%\n",
    "------------------------------------------------------------------------\n",
    "Average scores for all folds:\n",
    "> Accuracy: 97.13749885559082 (+- 0.2250007457214422)\n",
    "> Loss: 0.13624146282672883\n",
    "------------------------------------------------------------------------"
   ]
  },
  {
   "cell_type": "markdown",
   "metadata": {},
   "source": [
    "Le Tokenizer amélioré ici:"
   ]
  },
  {
   "cell_type": "raw",
   "metadata": {},
   "source": [
    "Score per fold\n",
    "> Fold 1 - Loss: 0.10068336129188538 - Accuracy: 97.3437488079071% - Time: 11.00 sec\n",
    "> Fold 2 - Loss: 0.11529579758644104 - Accuracy: 97.71875143051147% - Time: 10.75 sec\n",
    "> Fold 3 - Loss: 0.11323544383049011 - Accuracy: 97.31249809265137% - Time: 10.89 sec\n",
    "> Fold 4 - Loss: 0.11450822651386261 - Accuracy: 97.21875190734863% - Time: 11.53 sec\n",
    "> Fold 5 - Loss: 0.12105467170476913 - Accuracy: 97.65625% - Time: 10.84 sec\n",
    "------------------------------------------------------------------------\n",
    "Average scores for all folds:\n",
    "> Accuracy: 97.45000004768372 (+- 0.19921755173805408)\n",
    "> Loss: 0.11295550018548965\n",
    "> Average Time per Fold: 11.00 sec\n",
    "------------------------------------------------------------------------"
   ]
  },
  {
   "cell_type": "markdown",
   "metadata": {},
   "source": [
    "Excellents résultats! Vous observez une amélioration avec votre tokenizer optimisé, montrant une précision élevée et stable à travers les différents plis de la validation croisée. Pour explorer encore plus loin et améliorer la robustesse et la performance de votre modèle, vous pouvez en effet envisager d'expérimenter avec différentes architectures et d'introduire des techniques d'ensemble comme le bagging ou le boosting. Voici comment vous pourriez procéder :\n",
    "\n",
    "### 1. **Tester Différentes Architectures de Modèle**\n",
    "\n",
    "Vous pouvez expérimenter avec différentes configurations pour les couches de votre réseau neuronal, telles que :\n",
    "\n",
    "- **Augmenter le nombre de filtres dans les couches convolutives** : Plus de filtres peuvent permettre de capturer plus de caractéristiques fines du texte.\n",
    "- **Ajouter des couches convolutives** : Empiler plusieurs couches convolutives peut aider à apprendre des hiérarchies plus complexes de caractéristiques.\n",
    "- **Utiliser des tailles de noyau différentes** : Utiliser simultanément différentes tailles de noyaux dans les couches convolutives peut capter des motifs de différentes tailles dans les données.\n",
    "- **Inclure des couches de dropout** : Pour prévenir le surapprentissage en désactivant aléatoirement des neurones pendant l'entraînement.\n",
    "\n",
    "### 2. **Techniques d'Ensemble**\n",
    "\n",
    "- **Bagging** : Le bagging implique l'entraînement de multiples modèles (généralement du même type) sur différents sous-ensembles de l'ensemble de données d'entraînement et ensuite d'agréger leurs prédictions. Vous pouvez utiliser des variantes de votre modèle CNN avec différentes initialisations ou architectures et les combiner.\n",
    "  \n",
    "- **Boosting** : Techniques comme AdaBoost ou Gradient Boosting peuvent être utilisées mais sont moins communes pour les réseaux de neurones. Cependant, vous pouvez expérimenter avec des bibliothèques qui supportent ces méthodes adaptées aux réseaux de neurones, telles que CatBoost ou LightGBM pour des tâches de classification de features extraits.\n",
    "\n",
    "### 3. **Exemple d'Architecture avec Dropout et Plusieurs Couches Convolutives**\n",
    "\n",
    "Voici un exemple d'architecture plus complexe :\n",
    "\n",
    "```python\n",
    "from tensorflow.keras.layers import Dropout\n",
    "\n",
    "model = Sequential([\n",
    "    Embedding(input_dim=vocab_size, output_dim=embedding_dim, input_length=max_length),\n",
    "    Conv1D(filters=128, kernel_size=3, activation='relu'),\n",
    "    Conv1D(filters=128, kernel_size=4, activation='relu'),\n",
    "    GlobalMaxPooling1D(),\n",
    "    Dropout(0.5),\n",
    "    Dense(1, activation='sigmoid')\n",
    "])\n",
    "\n",
    "model.compile(optimizer='adam', loss='binary_crossentropy', metrics=['accuracy'])\n",
    "```\n",
    "\n",
    "### 4. **Ajustement de l'Entraînement**\n",
    "\n",
    "En ajoutant des couches ou en modifiant l'architecture, il peut être nécessaire de revoir les paramètres d'entraînement tels que le taux d'apprentissage, le nombre d'époques, ou les tailles des lots.\n",
    "\n",
    "### 5. **Validation**\n",
    "\n",
    "Après avoir modifié l'architecture ou utilisé des techniques d'ensemble, il est crucial de réévaluer le modèle sur vos données de validation ou via la validation croisée pour s'assurer que les modifications apportent des améliorations significatives et ne conduisent pas à un surapprentissage.\n",
    "\n",
    "En résumé, expérimenter avec ces techniques peut potentiellement améliorer la robustesse de votre modèle et mieux généraliser sur de nouvelles données. Chaque modification doit être soigneusement validée pour évaluer son impact réel sur la performance du modèle."
   ]
  }
 ],
 "metadata": {
  "kernelspec": {
   "display_name": "Python 3 (ipykernel)",
   "language": "python",
   "name": "python3"
  },
  "language_info": {
   "codemirror_mode": {
    "name": "ipython",
    "version": 3
   },
   "file_extension": ".py",
   "mimetype": "text/x-python",
   "name": "python",
   "nbconvert_exporter": "python",
   "pygments_lexer": "ipython3",
   "version": "3.12.2"
  }
 },
 "nbformat": 4,
 "nbformat_minor": 4
}
