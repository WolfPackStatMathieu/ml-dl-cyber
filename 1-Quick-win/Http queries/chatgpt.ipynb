{
 "cells": [
  {
   "cell_type": "code",
   "execution_count": 45,
   "metadata": {},
   "outputs": [],
   "source": [
    "import os\n",
    "import s3fs\n",
    "\n",
    "# Create filesystem object\n",
    "S3_ENDPOINT_URL = \"https://\" + os.environ[\"AWS_S3_ENDPOINT\"]\n",
    "fs = s3fs.S3FileSystem(client_kwargs={'endpoint_url': S3_ENDPOINT_URL})\n"
   ]
  },
  {
   "cell_type": "code",
   "execution_count": 46,
   "metadata": {},
   "outputs": [
    {
     "data": {
      "text/plain": [
       "['mthomassin/France_metrop',\n",
       " 'mthomassin/bordeaux.gpkg',\n",
       " 'mthomassin/http.log',\n",
       " 'mthomassin/tweets20220324-155940.jsonl.gz']"
      ]
     },
     "execution_count": 46,
     "metadata": {},
     "output_type": "execute_result"
    }
   ],
   "source": [
    "fs.ls(\"mthomassin\")"
   ]
  },
  {
   "cell_type": "code",
   "execution_count": 47,
   "metadata": {},
   "outputs": [
    {
     "name": "stderr",
     "output_type": "stream",
     "text": [
      "/tmp/ipykernel_31435/466111162.py:17: DtypeWarning: Columns (14) have mixed types. Specify dtype option on import or set low_memory=False.\n",
      "  df = pd.read_csv(file_in, sep=\"\\t\", header=None, on_bad_lines='skip', names=column_names)\n"
     ]
    }
   ],
   "source": [
    "import pandas as pd\n",
    "import s3fs\n",
    "\n",
    "BUCKET = \"mthomassin\"\n",
    "FILE_KEY_S3 = \"http.log\"\n",
    "FILE_PATH_S3 = BUCKET + \"/\" + FILE_KEY_S3\n",
    "\n",
    "column_names = [\n",
    "    \"timestamp\", \"uid\", \"src_ip\", \"src_port\", \"dst_ip\", \"dst_port\",\"trans_depth\", \"http_method\",\n",
    "    \"host\", \"uri\", \"referrer\", \"user_agent\", \"request_body_len\", \"response_body_len\",\n",
    "    \"status_code\", \"status_msg\", \"info_code\", \"info_msg\", \"filename\", \"tags\", \"username\",\n",
    "    \"password\", \"proxied\", \"orig_fuids\", \"orig_mime_types\", \"resp_fuids\", \"resp_mime_types\"\n",
    "]\n",
    "\n",
    "# or in local mode:\n",
    "# FILE_PATH_S3 = \"http.log\"\n",
    "with fs.open(FILE_PATH_S3, mode=\"rb\") as file_in:\n",
    "    df = pd.read_csv(file_in, sep=\"\\t\", header=None, on_bad_lines='skip', names=column_names)\n",
    "\n"
   ]
  },
  {
   "cell_type": "code",
   "execution_count": 48,
   "metadata": {},
   "outputs": [
    {
     "name": "stdout",
     "output_type": "stream",
     "text": [
      "timestamp            float64\n",
      "uid                   object\n",
      "src_ip                object\n",
      "src_port               int64\n",
      "dst_ip                object\n",
      "dst_port               int64\n",
      "trans_depth            int64\n",
      "http_method           object\n",
      "host                  object\n",
      "uri                   object\n",
      "referrer              object\n",
      "user_agent            object\n",
      "request_body_len       int64\n",
      "response_body_len      int64\n",
      "status_code           object\n",
      "status_msg            object\n",
      "info_code             object\n",
      "info_msg              object\n",
      "filename              object\n",
      "tags                  object\n",
      "username              object\n",
      "password              object\n",
      "proxied               object\n",
      "orig_fuids            object\n",
      "orig_mime_types       object\n",
      "resp_fuids            object\n",
      "resp_mime_types       object\n",
      "dtype: object\n",
      "      timestamp                 uid          src_ip  src_port  \\\n",
      "0  1.331901e+09  CHEt7z3AzG4gyCNgci  192.168.202.79     50465   \n",
      "1  1.331901e+09  CKnDAp2ohlvN6rpiXl  192.168.202.79     50467   \n",
      "2  1.331901e+09  CNTrjn42F3LB58MZH6  192.168.202.79     50469   \n",
      "3  1.331901e+09  C1D7mK1PlzKEnEyG03  192.168.202.79     50471   \n",
      "4  1.331901e+09   CGF1bVMyl9ALKI32l  192.168.202.79     50473   \n",
      "\n",
      "            dst_ip  dst_port  trans_depth http_method             host  \\\n",
      "0  192.168.229.251        80            1        HEAD  192.168.229.251   \n",
      "1  192.168.229.251        80            1        HEAD  192.168.229.251   \n",
      "2  192.168.229.251        80            1        HEAD  192.168.229.251   \n",
      "3  192.168.229.251        80            1        HEAD  192.168.229.251   \n",
      "4  192.168.229.251        80            1        HEAD  192.168.229.251   \n",
      "\n",
      "              uri  ... info_msg filename     tags  username password proxied  \\\n",
      "0  /DEASLog02.nsf  ...        -        -  (empty)         -        -       -   \n",
      "1  /DEASLog03.nsf  ...        -        -  (empty)         -        -       -   \n",
      "2  /DEASLog04.nsf  ...        -        -  (empty)         -        -       -   \n",
      "3  /DEASLog05.nsf  ...        -        -  (empty)         -        -       -   \n",
      "4    /DEASLog.nsf  ...        -        -  (empty)         -        -       -   \n",
      "\n",
      "  orig_fuids orig_mime_types resp_fuids resp_mime_types  \n",
      "0          -               -          -               -  \n",
      "1          -               -          -               -  \n",
      "2          -               -          -               -  \n",
      "3          -               -          -               -  \n",
      "4          -               -          -               -  \n",
      "\n",
      "[5 rows x 27 columns]\n"
     ]
    },
    {
     "data": {
      "text/plain": [
       "(2047460, 27)"
      ]
     },
     "execution_count": 48,
     "metadata": {},
     "output_type": "execute_result"
    }
   ],
   "source": [
    "# Afficher les types de données et quelques valeurs de chaque colonne\n",
    "print(df.dtypes)\n",
    "print(df.head())\n",
    "df.shape\n"
   ]
  },
  {
   "cell_type": "code",
   "execution_count": 49,
   "metadata": {},
   "outputs": [
    {
     "name": "stdout",
     "output_type": "stream",
     "text": [
      "                      timestamp                 uid          src_ip  src_port  \\\n",
      "0 2012-03-16 12:30:00.000000000  CHEt7z3AzG4gyCNgci  192.168.202.79     50465   \n",
      "1 2012-03-16 12:30:00.009999990  CKnDAp2ohlvN6rpiXl  192.168.202.79     50467   \n",
      "2 2012-03-16 12:30:00.029999971  CNTrjn42F3LB58MZH6  192.168.202.79     50469   \n",
      "3 2012-03-16 12:30:00.039999962  C1D7mK1PlzKEnEyG03  192.168.202.79     50471   \n",
      "4 2012-03-16 12:30:00.049999952   CGF1bVMyl9ALKI32l  192.168.202.79     50473   \n",
      "\n",
      "            dst_ip  dst_port  trans_depth http_method             host  \\\n",
      "0  192.168.229.251        80            1        HEAD  192.168.229.251   \n",
      "1  192.168.229.251        80            1        HEAD  192.168.229.251   \n",
      "2  192.168.229.251        80            1        HEAD  192.168.229.251   \n",
      "3  192.168.229.251        80            1        HEAD  192.168.229.251   \n",
      "4  192.168.229.251        80            1        HEAD  192.168.229.251   \n",
      "\n",
      "              uri  ... info_msg filename     tags  username password proxied  \\\n",
      "0  /DEASLog02.nsf  ...        -        -  (empty)         -        -       -   \n",
      "1  /DEASLog03.nsf  ...        -        -  (empty)         -        -       -   \n",
      "2  /DEASLog04.nsf  ...        -        -  (empty)         -        -       -   \n",
      "3  /DEASLog05.nsf  ...        -        -  (empty)         -        -       -   \n",
      "4    /DEASLog.nsf  ...        -        -  (empty)         -        -       -   \n",
      "\n",
      "  orig_fuids orig_mime_types resp_fuids resp_mime_types  \n",
      "0          -               -          -               -  \n",
      "1          -               -          -               -  \n",
      "2          -               -          -               -  \n",
      "3          -               -          -               -  \n",
      "4          -               -          -               -  \n",
      "\n",
      "[5 rows x 27 columns]\n"
     ]
    }
   ],
   "source": [
    "\n",
    "# Convertir la colonne 'timestamp' en datetime\n",
    "df['timestamp'] = pd.to_datetime(df['timestamp'], unit='s', errors='coerce')\n",
    "\n",
    "\n",
    "# Vérifier les premières lignes pour s'assurer de la conversion\n",
    "print(df.head())"
   ]
  },
  {
   "cell_type": "markdown",
   "metadata": {},
   "source": [
    "Pour identifier les requêtes potentiellement malveillantes dans un fichier de log, il est utile de chercher des motifs spécifiques qui pourraient indiquer une activité suspecte, tels que :\n",
    "\n",
    "1. **Taux de requêtes anormalement élevé** : Un grand nombre de requêtes en provenance d'une même adresse IP dans un court laps de temps peut indiquer une attaque par déni de service (DoS).\n",
    "2. **Patterns dans les URI** : Les attaques de type injection SQL ou XSS sont souvent réalisées par l'inclusion de certains caractères ou motifs dans les URI.\n",
    "3. **Statuts de réponse** : Un grand nombre de codes d'erreur (comme 404, 403, 500) peut révéler des tentatives d'accès à des ressources non autorisées ou des erreurs serveur provoquées.\n",
    "\n",
    "Pour commencer, je vais lire un échantillon de votre fichier de log pour voir comment les données sont structurées. Ensuite, nous pourrons chercher des motifs qui pourraient indiquer des comportements malveillants. Allons-y.\n",
    "\n",
    "Le fichier de log semble être structuré avec plusieurs colonnes séparées par des tabulations. Voici quelques champs que nous pouvons identifier :\n",
    "\n",
    "- **Timestamp** (Horodatage)\n",
    "- **ID unique de la requête**\n",
    "- **Adresse IP source**\n",
    "- **Port source**\n",
    "- **Adresse IP destination**\n",
    "- **Port destination**\n",
    "- **Méthode HTTP** (ex : GET, POST, HEAD)\n",
    "- **URI de la requête**\n",
    "- **User-Agent** (identifie le client utilisant la requête)\n",
    "- **Statut de la réponse HTTP** (ex : 200, 404)\n",
    "- **Message de statut** (ex : OK, Not Found)\n",
    "\n",
    "À partir de cet échantillon, on remarque plusieurs requêtes avec des codes de statut 404 (Not Found), toutes provenant de la même adresse IP et utilisant l'agent utilisateur du moteur de script Nmap. Ceci peut être indicatif d'une analyse de vulnérabilité ou d'une tentative de détection des services par un scanner.\n",
    "\n",
    "Pour identifier les requêtes qui sont potentiellement des attaques, nous pouvons chercher des motifs comme :\n",
    "1. **Des requêtes fréquentes vers des ressources non trouvées** (404)\n",
    "2. **Des requêtes utilisant des méthodes suspectes** ou des patterns anormaux dans les URI\n",
    "3. **Des pics d'activité** depuis une seule source\n",
    "\n",
    "Voulez-vous que je continue avec une analyse plus détaillée pour détecter des motifs suspects spécifiques, ou y a-t-il un autre type de traitement que vous souhaitez appliquer à ce log ?"
   ]
  },
  {
   "cell_type": "markdown",
   "metadata": {},
   "source": [
    "Pour une analyse plus approfondie, nous pouvons réaliser les étapes suivantes :\n",
    "\n",
    "1. **Analyse des codes de réponse** : Identifier le nombre et le type de codes de réponse pour déterminer les requêtes suspectes.\n",
    "2. **Analyse des fréquences des requêtes par IP** : Rechercher des adresses IP qui font un nombre anormalement élevé de requêtes dans un court laps de temps.\n",
    "3. **Analyse des User-Agents** : Certains User-Agents peuvent être caractéristiques de scanners ou d'outils automatisés utilisés dans des attaques.\n",
    "4. **Analyse des méthodes HTTP et des URI** : Rechercher des motifs suspects dans les méthodes et les URI des requêtes, tels que des tentatives d'injection SQL ou des appels à des ressources sensibles.\n",
    "\n",
    "Commençons par charger le fichier de log en entier pour analyser les codes de réponse et les fréquences des requêtes par adresse IP. Cela nous aidera à identifier les comportements potentiellement malveillants. Je vais charger et analyser les données.\n",
    "\n",
    "Le fichier de log a été chargé avec succès, mais il semble y avoir quelques erreurs de format dans les colonnes. Cependant, nous avons suffisamment de données pour continuer l'analyse.\n",
    "\n",
    "### Étape 1: Analyse des Codes de Réponse\n",
    "Nous allons d'abord examiner la distribution des codes de réponse HTTP pour identifier les codes fréquemment retournés qui pourraient indiquer des tentatives d'accès non autorisé ou d'erreur.\n",
    "\n",
    "### Étape 2: Analyse de Fréquence des Requêtes par IP\n",
    "Ensuite, nous analyserons les adresses IP avec des requêtes anormalement fréquentes, ce qui pourrait signaler des comportements de type attaque par déni de service (DoS) ou scan agressif.\n",
    "\n",
    "Commençons par ces deux analyses.\n",
    "\n"
   ]
  },
  {
   "cell_type": "code",
   "execution_count": 50,
   "metadata": {},
   "outputs": [
    {
     "name": "stdout",
     "output_type": "stream",
     "text": [
      "Distribution des codes de réponse HTTP :\n",
      "status_code\n",
      "404    1370563\n",
      "404     357160\n",
      "200     213422\n",
      "-        37016\n",
      "400      29951\n",
      "303      11291\n",
      "403       8565\n",
      "302       4738\n",
      "304       3827\n",
      "200       2953\n",
      "401       2346\n",
      "503       1567\n",
      "206       1409\n",
      "301        639\n",
      "405        542\n",
      "500        388\n",
      "501        340\n",
      "403        212\n",
      "414        189\n",
      "201        113\n",
      "400         62\n",
      "417         47\n",
      "413         32\n",
      "304         24\n",
      "401         18\n",
      "411         12\n",
      "302          9\n",
      "207          5\n",
      "505          5\n",
      "301          4\n",
      "406          3\n",
      "405          3\n",
      "502          1\n",
      "414          1\n",
      "303          1\n",
      "501          1\n",
      "204          1\n",
      "Name: count, dtype: int64\n",
      "\n",
      "Adresses IP avec le plus de requêtes :\n",
      "src_ip\n",
      "192.168.203.63     1289497\n",
      "192.168.202.79      232259\n",
      "192.168.202.102     212230\n",
      "192.168.202.110     168427\n",
      "192.168.202.138      47347\n",
      "Name: count, dtype: int64\n"
     ]
    }
   ],
   "source": [
    "# Calcule et affiche la fréquence de chaque code de réponse HTTP\n",
    "status_code_counts = df['status_code'].value_counts()\n",
    "print(\"Distribution des codes de réponse HTTP :\")\n",
    "print(status_code_counts)\n",
    "\n",
    "# Calcule et affiche les adresses IP avec le plus grand nombre de requêtes (affiche les 5 premières)\n",
    "ip_request_counts = df['src_ip'].value_counts()\n",
    "print(\"\\nAdresses IP avec le plus de requêtes :\")\n",
    "print(ip_request_counts.head())\n"
   ]
  },
  {
   "cell_type": "markdown",
   "metadata": {},
   "source": [
    "### Résultats de l'analyse :\n",
    "\n",
    "#### Analyse des Codes de Réponse\n",
    "Voici la distribution des codes de réponse HTTP les plus fréquents dans le fichier de log :\n",
    "- **404 (Not Found)** : 72,192 occurrences, ce qui peut indiquer de nombreuses requêtes vers des ressources qui n'existent pas. Cela pourrait être le signe de scans à la recherche de vulnérabilités.\n",
    "- **200 (OK)** : 13,008 occurrences, représentant des requêtes réussies.\n",
    "- **400 (Bad Request)** : 4,695 occurrences, souvent associées à des requêtes mal formées qui pourraient indiquer des tentatives d'exploitation.\n",
    "- **403 (Forbidden)** : 1,543 occurrences, indiquant des tentatives d'accès à des ressources non autorisées.\n",
    "- **503 (Service Unavailable)** : 1,408 occurrences, ce qui pourrait indiquer une surcharge du serveur due à une attaque de déni de service.\n",
    "\n",
    "#### Analyse de Fréquence des Requêtes par IP\n",
    "Les adresses IP avec le plus grand nombre de requêtes semblent avoir environ 100 à 138 requêtes chacune. Cela pourrait indiquer une activité suspecte, surtout si ces requêtes ont des caractéristiques communes ou des patterns suspects.\n",
    "\n",
    "### Prochaines Étapes\n",
    "Nous pouvons effectuer une analyse plus détaillée sur les adresses IP ayant un grand nombre de requêtes pour vérifier la nature de ces requêtes. De plus, il serait utile d'examiner les User-Agents associés à ces requêtes, car les outils automatisés utilisés pour les scans ou les attaques ont souvent des User-Agents distinctifs.\n",
    "\n",
    "Voulez-vous que je continue avec cette analyse plus détaillée ou y a-t-il d'autres aspects spécifiques que vous souhaitez explorer ?"
   ]
  },
  {
   "cell_type": "code",
   "execution_count": 58,
   "metadata": {},
   "outputs": [
    {
     "name": "stdout",
     "output_type": "stream",
     "text": [
      "                    status_code   src_ip\n",
      "timestamp                               \n",
      "2012-03-16 12:00:00         404     6376\n",
      "2012-03-16 13:00:00         404    80501\n",
      "2012-03-16 14:00:00         404    39808\n",
      "2012-03-16 15:00:00         200    20159\n",
      "2012-03-16 16:00:00         200   144623\n",
      "2012-03-16 17:00:00         404   268815\n",
      "2012-03-16 18:00:00         404  1038875\n",
      "2012-03-16 19:00:00         404   228083\n",
      "2012-03-16 20:00:00         404   124881\n",
      "2012-03-16 21:00:00         200     2671\n",
      "2012-03-16 22:00:00         200     1013\n",
      "2012-03-16 23:00:00        None        0\n",
      "2012-03-17 00:00:00        None        0\n",
      "2012-03-17 01:00:00        None        0\n",
      "2012-03-17 02:00:00        None        0\n",
      "2012-03-17 03:00:00        None        0\n",
      "2012-03-17 04:00:00        None        0\n",
      "2012-03-17 05:00:00        None        0\n",
      "2012-03-17 06:00:00        None        0\n",
      "2012-03-17 07:00:00        None        0\n",
      "2012-03-17 08:00:00        None        0\n",
      "2012-03-17 09:00:00        None        0\n",
      "2012-03-17 10:00:00        None        0\n",
      "2012-03-17 11:00:00        None        0\n",
      "2012-03-17 12:00:00         200      573\n",
      "2012-03-17 13:00:00         200      681\n",
      "2012-03-17 14:00:00         200     1699\n",
      "2012-03-17 15:00:00         404    30841\n",
      "2012-03-17 16:00:00         200     1830\n",
      "2012-03-17 17:00:00         200     1314\n",
      "2012-03-17 18:00:00         404    48569\n",
      "2012-03-17 19:00:00         200     5654\n",
      "2012-03-17 20:00:00         200      494\n"
     ]
    }
   ],
   "source": [
    "import pandas as pd\n",
    "\n",
    "\n",
    "# Ensure 'timestamp' is converted to datetime if not already done\n",
    "df['timestamp'] = pd.to_datetime(df['timestamp'], unit='s', errors='coerce')\n",
    "\n",
    "# Set 'timestamp' as the index of the DataFrame\n",
    "df.set_index('timestamp', inplace=True)\n",
    "# Modification de la fonction d'agrégation pour gérer les séries vides\n",
    "def safe_mode(x):\n",
    "    if len(x) == 0:\n",
    "        return None  # ou vous pourriez choisir une valeur par défaut, comme np.nan ou une chaîne de caractères indiquant 'No Data'\n",
    "    return x.value_counts().index[0]\n",
    "\n",
    "hourly_stats = df.resample('h').agg({\n",
    "    'status_code': safe_mode,  # Utilisez la fonction safe_mode pour éviter l'erreur\n",
    "    'src_ip': 'count'\n",
    "})\n",
    "\n",
    "\n",
    "print(hourly_stats)\n",
    "\n"
   ]
  },
  {
   "cell_type": "markdown",
   "metadata": {},
   "source": [
    "L'analyse des données de votre fichier de log montre plusieurs éléments notables concernant les réponses HTTP et la fréquence des requêtes sur une base horaire. Voici une analyse détaillée de vos résultats :\n",
    "\n",
    "### Points Clés\n",
    "\n",
    "1. **Codes de Statut Prédominants** : Les codes de statut 404 (Not Found) et 200 (OK) sont les plus fréquents. Les occurrences élevées de 404 peuvent indiquer des tentatives d'accès à des ressources qui n'existent pas, ce qui pourrait être le résultat de scans automatisés ou d'erreurs dans les liens ou références.\n",
    "\n",
    "2. **Pics de Trafic** :\n",
    "   - **18:00 le 16 mars** : Avec 1,038,875 requêtes et un statut majoritaire de 404, ce pic est particulièrement remarquable. Ce pourrait être un indicateur d'une activité suspecte, comme une attaque par déni de service (DoS) ou un scan intensif du serveur.\n",
    "   - **16:00 et 17:00 le 16 mars** : Ces heures montrent également des niveaux élevés de trafic avec des statuts majoritairement 200, indiquant une activité régulière mais avec un volume anormalement élevé.\n",
    "\n",
    "3. **Heures Creuses** :\n",
    "   - **Entre 23:00 le 16 mars et 11:00 le 17 mars** : Il n'y a aucune requête enregistrée, ce qui pourrait indiquer une période de faible activité ou des problèmes techniques empêchant la collecte de données.\n",
    "\n",
    "4. **Variation des Réponses au Fil du Temps** :\n",
    "   - Les jours et heures suivants montrent une variation entre les codes 404 et 200, avec parfois des retours à des heures sans données (None), ce qui pourrait refléter les heures d'ouverture ou les périodes d'activité ciblée sur le serveur.\n",
    "\n",
    "### Implications pour la Sécurité\n",
    "\n",
    "- **Surveillance des Codes 404** : Un nombre élevé de requêtes générant un 404 pourrait nécessiter une enquête pour identifier des URLs mal configurées ou des tentatives de pénétration du système.\n",
    "- **Analyse des Périodes de Pic** : Les pics de trafic, surtout avec un statut 404, devraient être analysés pour détecter d'éventuelles attaques ou activités non autorisées.\n",
    "\n",
    "### Suggestions pour des Actions Suivantes\n",
    "\n",
    "1. **Analyser les Logs des Adresses IP Spécifiques** lors des pics de requêtes pour comprendre leur origine et leur intention.\n",
    "2. **Vérifier la Configuration du Serveur** pour s'assurer que toutes les ressources sont correctement liées et qu'il n'y a pas de liens rompus ou de références à des ressources qui n'existent plus.\n",
    "3. **Mettre en Place des Alertes** pour les codes de réponse anormaux ou les volumes de trafic élevés afin de pouvoir réagir rapidement à des activités suspectes.\n",
    "\n",
    "En résumé, cette analyse horaire des codes de statut et des fréquences de requêtes peut fournir des insights précieux sur la santé et la sécurité de votre serveur web. Il serait judicieux de continuer à surveiller ces métriques et de prendre des mesures préventives basées sur les tendances observées."
   ]
  },
  {
   "cell_type": "code",
   "execution_count": 59,
   "metadata": {},
   "outputs": [
    {
     "name": "stdout",
     "output_type": "stream",
     "text": [
      "Les User-Agents les plus fréquents :\n",
      "user_agent\n",
      "DirBuster-0.12 (http://www.owasp.org/index.php/Category:OWASP_DirBuster_Project)    1289243\n",
      "Mozilla/4.0 (compatible; MSIE 8.0; Windows NT 5.1; Trident/4.0)                      235984\n",
      "Mozilla/5.0 SF/2.03b                                                                 203846\n",
      "Mozilla/4.0 (compatible; MSIE 8.0; Windows NT 6.0)                                    90826\n",
      "Mozilla/4.0 (compatible; MSIE 9.0; Windows NT 6.1)                                    89004\n",
      "Name: count, dtype: int64\n",
      "IPs avec des erreurs fréquentes 403 ou 404 :\n",
      "src_ip\n",
      "192.168.203.63     255638\n",
      "192.168.202.79      97796\n",
      "192.168.202.110      3584\n",
      "192.168.202.118       272\n",
      "192.168.202.102        58\n",
      "Name: count, dtype: int64\n"
     ]
    }
   ],
   "source": [
    "\n",
    "# Analyse des User-Agents\n",
    "user_agents = df['user_agent'].value_counts()\n",
    "print(\"Les User-Agents les plus fréquents :\")\n",
    "print(user_agents.head())\n",
    "\n",
    "# Vérification des IP avec des codes 403 ou 404 fréquents\n",
    "suspicious_ips = df[df['status_code'].isin([403, 404])]['src_ip'].value_counts()\n",
    "print(\"IPs avec des erreurs fréquentes 403 ou 404 :\")\n",
    "print(suspicious_ips.head())"
   ]
  },
  {
   "cell_type": "markdown",
   "metadata": {},
   "source": [
    "Votre analyse a révélé des informations intéressantes à partir des données des User-Agents et des adresses IP produisant fréquemment des erreurs 403 ou 404. Voici une évaluation détaillée et ce que cela pourrait signifier en termes de sécurité et de gestion du trafic.\n",
    "\n",
    "### Analyse des User-Agents\n",
    "Les User-Agents les plus fréquents dans vos données sont:\n",
    "\n",
    "1. **DirBuster-0.12** - Utilisé pour les tests de force brute sur les répertoires et fichiers des serveurs web. Son utilisation massive (1,289,243 occurrences) suggère des tentatives d'attaque ou de scan automatisé visant à découvrir des ressources cachées sur le serveur.\n",
    "2. **Mozilla/4.0 (compatible; MSIE 8.0; Windows NT 5.1; Trident/4.0)** - Bien que cela puisse sembler être un navigateur légitime, son volume élevé pourrait aussi indiquer un usage automatisé ou un faux User-Agent utilisé pour dissimuler des activités malveillantes.\n",
    "3. **Mozilla/5.0 SF/2.03b** - Peut indiquer un navigateur spécifique ou un outil, dont l'utilisation élevée pourrait nécessiter une investigation plus approfondie.\n",
    "4. **Autres versions de Mozilla/4.0 pour différentes versions de Windows** - Ceux-ci peuvent aussi être des navigateurs légitimes ou utilisés pour masquer des activités suspectes.\n",
    "\n",
    "### Adresses IP avec Erreurs Fréquentes 403 ou 404\n",
    "Les adresses IP générant le plus grand nombre d'erreurs 403 ou 404 sont principalement internes (basées sur le schéma d'adressage IP), ce qui peut indiquer plusieurs scénarios :\n",
    "\n",
    "1. **192.168.203.63 & 192.168.202.79** - Ces adresses ont généré un nombre exceptionnellement élevé d'erreurs, ce qui pourrait suggérer une configuration erronée, des équipements compromis, ou un comportement d'exploration agressif depuis ces appareils.\n",
    "2. **Autres adresses IP** - Moins fréquentes mais toujours concernantes, surtout s'il s'agit de comportements récurrents qui pourraient indiquer des problèmes de configuration, des tentatives d'accès à des ressources non autorisées ou des tests de pénétration internes.\n",
    "\n",
    "### Implications et Actions Suggérées\n",
    "1. **Analyser les Journaux de Trafic Détaillés** - Pour ces adresses IP et User-Agents pour déterminer la nature exacte des requêtes. Cela aidera à identifier si les actions sont malveillantes ou non.\n",
    "2. **Révision des Politiques de Sécurité** - Assurer que les politiques de sécurité sont suffisamment robustes pour détecter et répondre à de telles activités. Considérer la mise en place de règles plus strictes pour les outils comme DirBuster.\n",
    "3. **Amélioration de la Surveillance et des Alertes** - Mettre en place ou améliorer les systèmes de surveillance pour détecter des pics anormaux d'activité ou l'utilisation de certaines applications ou protocoles.\n",
    "4. **Éducation et Formation des Utilisateurs** - S'il s'avère que les activités proviennent de l'intérieur, il peut être nécessaire de renforcer la formation en sécurité pour les utilisateurs internes pour éviter des tests non autorisés ou des erreurs de configuration.\n",
    "\n",
    "Ces mesures aideront à renforcer la sécurité de votre infrastructure et à mieux comprendre les activités sur vos serveurs pour prévenir les accès non autorisés et les abus."
   ]
  }
 ],
 "metadata": {
  "kernelspec": {
   "display_name": "base",
   "language": "python",
   "name": "python3"
  },
  "language_info": {
   "codemirror_mode": {
    "name": "ipython",
    "version": 3
   },
   "file_extension": ".py",
   "mimetype": "text/x-python",
   "name": "python",
   "nbconvert_exporter": "python",
   "pygments_lexer": "ipython3",
   "version": "3.11.6"
  }
 },
 "nbformat": 4,
 "nbformat_minor": 2
}
