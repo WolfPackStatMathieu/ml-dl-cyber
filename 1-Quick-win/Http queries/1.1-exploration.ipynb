{
 "cells": [
  {
   "cell_type": "code",
   "execution_count": 1,
   "metadata": {},
   "outputs": [],
   "source": [
    "import pandas as pd\n",
    "# Définir les noms de colonnes à partir des informations fournies dans \"http.html\"\n",
    "column_names = [\n",
    "    \"ts\", \"uid\", \"id.orig_h\", \"id.orig_p\", \"id.resp_h\", \"id.resp_p\", \"trans_depth\",\n",
    "    \"method\", \"host\", \"uri\", \"referrer\", \"user_agent\", \"request_body_len\", \"response_body_len\",\n",
    "    \"status_code\", \"status_msg\", \"info_code\", \"info_msg\", \"filename\", \"tags\", \"username\",\n",
    "    \"password\", \"proxied\", \"orig_fuids\", \"orig_mime_types\", \"resp_fuids\", \"resp_mime_types\"\n",
    "]\n",
    "\n",
    "# Spécifier le type de données de la colonne 14\n",
    "dtype = {'status_code': str}  # Suppose que la colonne 14 contient des valeurs de type str\n",
    "\n",
    "# Lire le fichier décompressé dans un DataFrame\n",
    "df = pd.read_csv('http.log', sep='\\t',on_bad_lines='skip', header=None, names=column_names)"
   ]
  },
  {
   "cell_type": "code",
   "execution_count": null,
   "metadata": {},
   "outputs": [],
   "source": [
    "# Afficher les premières lignes du DataFrame pour vérifier\n",
    "print(df.info())"
   ]
  },
  {
   "cell_type": "code",
   "execution_count": null,
   "metadata": {},
   "outputs": [],
   "source": [
    "print(df.dtypes)"
   ]
  },
  {
   "cell_type": "code",
   "execution_count": null,
   "metadata": {},
   "outputs": [],
   "source": [
    "first_row = df.iloc[0]\n",
    "print(first_row)"
   ]
  },
  {
   "cell_type": "code",
   "execution_count": null,
   "metadata": {},
   "outputs": [],
   "source": [
    "#DataFrame with columns\n",
    "columns = pd.DataFrame(list(df.columns.values[1:]))\n",
    "\n",
    "#DataFrame with data types\n",
    "data_types = pd.DataFrame(df.dtypes, columns=['Data Type'])\n",
    "\n",
    "#DataFrame with Count\n",
    "data_count = pd.DataFrame(df.count(), columns=['Count'])\n",
    "\n",
    "#DataFrame with unique values\n",
    "unique_value_counts = pd.DataFrame(columns=['Unique Values'])\n",
    "for v in list(df.columns.values):\n",
    "    unique_value_counts.loc[v] = [df[v].nunique()]\n",
    "\n",
    "missing_data_counts = pd.DataFrame(df.isnull().sum(), columns=['Missing Values'])\n",
    "data_quality_report = data_types.join(data_count).join(unique_value_counts).join(missing_data_counts)\n",
    "print('Data Quality Report')\n",
    "data_quality_report"
   ]
  },
  {
   "cell_type": "code",
   "execution_count": 6,
   "metadata": {},
   "outputs": [],
   "source": [
    "import seaborn as sns\n",
    "import matplotlib.pyplot as plt\n",
    "\n",
    "# Supprimer les colonnes non numériques du DataFrame\n",
    "numeric_df = df.select_dtypes(include='number')\n",
    "\n",
    "# Créer un pair plot\n",
    "# sns.pairplot(numeric_df)\n",
    "# plt.show()\n"
   ]
  },
  {
   "cell_type": "code",
   "execution_count": null,
   "metadata": {},
   "outputs": [],
   "source": []
  }
 ],
 "metadata": {
  "kernelspec": {
   "display_name": "Python 3",
   "language": "python",
   "name": "python3"
  },
  "language_info": {
   "codemirror_mode": {
    "name": "ipython",
    "version": 3
   },
   "file_extension": ".py",
   "mimetype": "text/x-python",
   "name": "python",
   "nbconvert_exporter": "python",
   "pygments_lexer": "ipython3",
   "version": "3.12.3"
  }
 },
 "nbformat": 4,
 "nbformat_minor": 2
}
